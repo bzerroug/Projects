{
 "cells": [
  {
   "cell_type": "code",
   "execution_count": 1,
   "metadata": {},
   "outputs": [],
   "source": [
    "import pandas as pd\n",
    "import matplotlib\n",
    "import matplotlib.pyplot as plt\n",
    "import scipy.stats as stats \n",
    "import numpy as np\n",
    "from scipy.stats import chi2_contingency\n",
    "from sklearn import preprocessing\n",
    "from sklearn.linear_model import LogisticRegression\n",
    "from sklearn.ensemble import RandomForestClassifier\n",
    "from sklearn.model_selection import train_test_split\n",
    "from sklearn.metrics import confusion_matrix, make_scorer\n",
    "from sklearn.model_selection import RandomizedSearchCV\n",
    "from sklearn.model_selection import cross_val_score\n",
    "from imblearn.over_sampling import SMOTE\n",
    "%matplotlib inline"
   ]
  },
  {
   "cell_type": "markdown",
   "metadata": {},
   "source": [
    "# Importation des données"
   ]
  },
  {
   "cell_type": "code",
   "execution_count": 62,
   "metadata": {},
   "outputs": [
    {
     "data": {
      "text/html": [
       "<div>\n",
       "<style scoped>\n",
       "    .dataframe tbody tr th:only-of-type {\n",
       "        vertical-align: middle;\n",
       "    }\n",
       "\n",
       "    .dataframe tbody tr th {\n",
       "        vertical-align: top;\n",
       "    }\n",
       "\n",
       "    .dataframe thead th {\n",
       "        text-align: right;\n",
       "    }\n",
       "</style>\n",
       "<table border=\"1\" class=\"dataframe\">\n",
       "  <thead>\n",
       "    <tr style=\"text-align: right;\">\n",
       "      <th></th>\n",
       "      <th>Unnamed: 0</th>\n",
       "      <th>index</th>\n",
       "      <th>date</th>\n",
       "      <th>cheveux</th>\n",
       "      <th>age</th>\n",
       "      <th>exp</th>\n",
       "      <th>salaire</th>\n",
       "      <th>sexe</th>\n",
       "      <th>diplome</th>\n",
       "      <th>specialite</th>\n",
       "      <th>note</th>\n",
       "      <th>dispo</th>\n",
       "      <th>embauche</th>\n",
       "    </tr>\n",
       "  </thead>\n",
       "  <tbody>\n",
       "    <tr>\n",
       "      <th>0</th>\n",
       "      <td>0</td>\n",
       "      <td>0</td>\n",
       "      <td>2012-06-02</td>\n",
       "      <td>roux</td>\n",
       "      <td>25.0</td>\n",
       "      <td>9.0</td>\n",
       "      <td>26803.0</td>\n",
       "      <td>F</td>\n",
       "      <td>licence</td>\n",
       "      <td>geologie</td>\n",
       "      <td>97.08</td>\n",
       "      <td>non</td>\n",
       "      <td>0</td>\n",
       "    </tr>\n",
       "    <tr>\n",
       "      <th>1</th>\n",
       "      <td>1</td>\n",
       "      <td>1</td>\n",
       "      <td>2011-04-21</td>\n",
       "      <td>blond</td>\n",
       "      <td>35.0</td>\n",
       "      <td>13.0</td>\n",
       "      <td>38166.0</td>\n",
       "      <td>M</td>\n",
       "      <td>licence</td>\n",
       "      <td>forage</td>\n",
       "      <td>63.86</td>\n",
       "      <td>non</td>\n",
       "      <td>0</td>\n",
       "    </tr>\n",
       "    <tr>\n",
       "      <th>2</th>\n",
       "      <td>2</td>\n",
       "      <td>2</td>\n",
       "      <td>2012-09-07</td>\n",
       "      <td>blond</td>\n",
       "      <td>29.0</td>\n",
       "      <td>13.0</td>\n",
       "      <td>35207.0</td>\n",
       "      <td>M</td>\n",
       "      <td>licence</td>\n",
       "      <td>geologie</td>\n",
       "      <td>78.50</td>\n",
       "      <td>non</td>\n",
       "      <td>0</td>\n",
       "    </tr>\n",
       "    <tr>\n",
       "      <th>3</th>\n",
       "      <td>3</td>\n",
       "      <td>3</td>\n",
       "      <td>2011-07-01</td>\n",
       "      <td>brun</td>\n",
       "      <td>NaN</td>\n",
       "      <td>12.0</td>\n",
       "      <td>32442.0</td>\n",
       "      <td>M</td>\n",
       "      <td>licence</td>\n",
       "      <td>geologie</td>\n",
       "      <td>45.09</td>\n",
       "      <td>non</td>\n",
       "      <td>0</td>\n",
       "    </tr>\n",
       "    <tr>\n",
       "      <th>4</th>\n",
       "      <td>4</td>\n",
       "      <td>4</td>\n",
       "      <td>2012-08-07</td>\n",
       "      <td>roux</td>\n",
       "      <td>35.0</td>\n",
       "      <td>6.0</td>\n",
       "      <td>28533.0</td>\n",
       "      <td>F</td>\n",
       "      <td>licence</td>\n",
       "      <td>detective</td>\n",
       "      <td>81.91</td>\n",
       "      <td>non</td>\n",
       "      <td>0</td>\n",
       "    </tr>\n",
       "  </tbody>\n",
       "</table>\n",
       "</div>"
      ],
      "text/plain": [
       "   Unnamed: 0  index        date cheveux   age   exp  salaire sexe  diplome  \\\n",
       "0           0      0  2012-06-02    roux  25.0   9.0  26803.0    F  licence   \n",
       "1           1      1  2011-04-21   blond  35.0  13.0  38166.0    M  licence   \n",
       "2           2      2  2012-09-07   blond  29.0  13.0  35207.0    M  licence   \n",
       "3           3      3  2011-07-01    brun   NaN  12.0  32442.0    M  licence   \n",
       "4           4      4  2012-08-07    roux  35.0   6.0  28533.0    F  licence   \n",
       "\n",
       "  specialite   note dispo  embauche  \n",
       "0   geologie  97.08   non         0  \n",
       "1     forage  63.86   non         0  \n",
       "2   geologie  78.50   non         0  \n",
       "3   geologie  45.09   non         0  \n",
       "4  detective  81.91   non         0  "
      ]
     },
     "execution_count": 62,
     "metadata": {},
     "output_type": "execute_result"
    }
   ],
   "source": [
    "df = pd.read_csv('data/data.csv')\n",
    "df.head()"
   ]
  },
  {
   "cell_type": "markdown",
   "metadata": {},
   "source": [
    "# Nettoyage de données"
   ]
  },
  {
   "cell_type": "code",
   "execution_count": 3,
   "metadata": {},
   "outputs": [
    {
     "data": {
      "text/html": [
       "<div>\n",
       "<style scoped>\n",
       "    .dataframe tbody tr th:only-of-type {\n",
       "        vertical-align: middle;\n",
       "    }\n",
       "\n",
       "    .dataframe tbody tr th {\n",
       "        vertical-align: top;\n",
       "    }\n",
       "\n",
       "    .dataframe thead th {\n",
       "        text-align: right;\n",
       "    }\n",
       "</style>\n",
       "<table border=\"1\" class=\"dataframe\">\n",
       "  <thead>\n",
       "    <tr style=\"text-align: right;\">\n",
       "      <th></th>\n",
       "      <th>date</th>\n",
       "      <th>cheveux</th>\n",
       "      <th>age</th>\n",
       "      <th>exp</th>\n",
       "      <th>salaire</th>\n",
       "      <th>sexe</th>\n",
       "      <th>diplome</th>\n",
       "      <th>specialite</th>\n",
       "      <th>note</th>\n",
       "      <th>dispo</th>\n",
       "      <th>embauche</th>\n",
       "    </tr>\n",
       "  </thead>\n",
       "  <tbody>\n",
       "    <tr>\n",
       "      <th>0</th>\n",
       "      <td>2012-06-02</td>\n",
       "      <td>roux</td>\n",
       "      <td>25.0</td>\n",
       "      <td>9.0</td>\n",
       "      <td>26803.0</td>\n",
       "      <td>F</td>\n",
       "      <td>licence</td>\n",
       "      <td>geologie</td>\n",
       "      <td>97.08</td>\n",
       "      <td>non</td>\n",
       "      <td>0</td>\n",
       "    </tr>\n",
       "    <tr>\n",
       "      <th>1</th>\n",
       "      <td>2011-04-21</td>\n",
       "      <td>blond</td>\n",
       "      <td>35.0</td>\n",
       "      <td>13.0</td>\n",
       "      <td>38166.0</td>\n",
       "      <td>M</td>\n",
       "      <td>licence</td>\n",
       "      <td>forage</td>\n",
       "      <td>63.86</td>\n",
       "      <td>non</td>\n",
       "      <td>0</td>\n",
       "    </tr>\n",
       "    <tr>\n",
       "      <th>2</th>\n",
       "      <td>2012-09-07</td>\n",
       "      <td>blond</td>\n",
       "      <td>29.0</td>\n",
       "      <td>13.0</td>\n",
       "      <td>35207.0</td>\n",
       "      <td>M</td>\n",
       "      <td>licence</td>\n",
       "      <td>geologie</td>\n",
       "      <td>78.50</td>\n",
       "      <td>non</td>\n",
       "      <td>0</td>\n",
       "    </tr>\n",
       "    <tr>\n",
       "      <th>3</th>\n",
       "      <td>2011-07-01</td>\n",
       "      <td>brun</td>\n",
       "      <td>NaN</td>\n",
       "      <td>12.0</td>\n",
       "      <td>32442.0</td>\n",
       "      <td>M</td>\n",
       "      <td>licence</td>\n",
       "      <td>geologie</td>\n",
       "      <td>45.09</td>\n",
       "      <td>non</td>\n",
       "      <td>0</td>\n",
       "    </tr>\n",
       "    <tr>\n",
       "      <th>4</th>\n",
       "      <td>2012-08-07</td>\n",
       "      <td>roux</td>\n",
       "      <td>35.0</td>\n",
       "      <td>6.0</td>\n",
       "      <td>28533.0</td>\n",
       "      <td>F</td>\n",
       "      <td>licence</td>\n",
       "      <td>detective</td>\n",
       "      <td>81.91</td>\n",
       "      <td>non</td>\n",
       "      <td>0</td>\n",
       "    </tr>\n",
       "  </tbody>\n",
       "</table>\n",
       "</div>"
      ],
      "text/plain": [
       "         date cheveux   age   exp  salaire sexe  diplome specialite   note  \\\n",
       "0  2012-06-02    roux  25.0   9.0  26803.0    F  licence   geologie  97.08   \n",
       "1  2011-04-21   blond  35.0  13.0  38166.0    M  licence     forage  63.86   \n",
       "2  2012-09-07   blond  29.0  13.0  35207.0    M  licence   geologie  78.50   \n",
       "3  2011-07-01    brun   NaN  12.0  32442.0    M  licence   geologie  45.09   \n",
       "4  2012-08-07    roux  35.0   6.0  28533.0    F  licence  detective  81.91   \n",
       "\n",
       "  dispo  embauche  \n",
       "0   non         0  \n",
       "1   non         0  \n",
       "2   non         0  \n",
       "3   non         0  \n",
       "4   non         0  "
      ]
     },
     "execution_count": 3,
     "metadata": {},
     "output_type": "execute_result"
    }
   ],
   "source": [
    "# On supprimes les colonnes inutiles\n",
    "df.columns\n",
    "del df['Unnamed: 0']\n",
    "del df['index']\n",
    "df.head()"
   ]
  },
  {
   "cell_type": "code",
   "execution_count": 4,
   "metadata": {},
   "outputs": [
    {
     "name": "stdout",
     "output_type": "stream",
     "text": [
      "date           91\n",
      "cheveux       103\n",
      "age            91\n",
      "exp            96\n",
      "salaire        95\n",
      "sexe          100\n",
      "diplome       110\n",
      "specialite     93\n",
      "note          114\n",
      "dispo         106\n",
      "embauche        0\n",
      "dtype: int64\n"
     ]
    }
   ],
   "source": [
    "# On regarde les données manquantes\n",
    "print(df.isnull().sum())\n",
    "#df.head()"
   ]
  },
  {
   "cell_type": "code",
   "execution_count": 5,
   "metadata": {},
   "outputs": [],
   "source": [
    "# On supprime les données manquantes pour les variables catégoriques ainsi que pour la date\n",
    "df.dropna(subset = ['cheveux', 'sexe', 'diplome', 'specialite', 'dispo', 'date'], inplace=True)\n",
    "\n",
    "# on remplace les données manquantes par la moyenne pour les variables quantitatives\n",
    "df.fillna(df.mean(), inplace=True)"
   ]
  },
  {
   "cell_type": "code",
   "execution_count": 6,
   "metadata": {},
   "outputs": [
    {
     "data": {
      "text/html": [
       "<div>\n",
       "<style scoped>\n",
       "    .dataframe tbody tr th:only-of-type {\n",
       "        vertical-align: middle;\n",
       "    }\n",
       "\n",
       "    .dataframe tbody tr th {\n",
       "        vertical-align: top;\n",
       "    }\n",
       "\n",
       "    .dataframe thead th {\n",
       "        text-align: right;\n",
       "    }\n",
       "</style>\n",
       "<table border=\"1\" class=\"dataframe\">\n",
       "  <thead>\n",
       "    <tr style=\"text-align: right;\">\n",
       "      <th></th>\n",
       "      <th>age</th>\n",
       "      <th>exp</th>\n",
       "      <th>salaire</th>\n",
       "      <th>note</th>\n",
       "    </tr>\n",
       "  </thead>\n",
       "  <tbody>\n",
       "    <tr>\n",
       "      <th>count</th>\n",
       "      <td>19408.000000</td>\n",
       "      <td>19408.000000</td>\n",
       "      <td>19408.000000</td>\n",
       "      <td>19408.000000</td>\n",
       "    </tr>\n",
       "    <tr>\n",
       "      <th>mean</th>\n",
       "      <td>34.987162</td>\n",
       "      <td>9.497204</td>\n",
       "      <td>34970.906337</td>\n",
       "      <td>75.184858</td>\n",
       "    </tr>\n",
       "    <tr>\n",
       "      <th>std</th>\n",
       "      <td>9.577133</td>\n",
       "      <td>3.005781</td>\n",
       "      <td>4988.966442</td>\n",
       "      <td>17.060947</td>\n",
       "    </tr>\n",
       "    <tr>\n",
       "      <th>min</th>\n",
       "      <td>-3.000000</td>\n",
       "      <td>-2.000000</td>\n",
       "      <td>14128.000000</td>\n",
       "      <td>8.680000</td>\n",
       "    </tr>\n",
       "    <tr>\n",
       "      <th>25%</th>\n",
       "      <td>29.000000</td>\n",
       "      <td>7.000000</td>\n",
       "      <td>31617.000000</td>\n",
       "      <td>63.820000</td>\n",
       "    </tr>\n",
       "    <tr>\n",
       "      <th>50%</th>\n",
       "      <td>35.000000</td>\n",
       "      <td>9.000000</td>\n",
       "      <td>34970.906337</td>\n",
       "      <td>75.184858</td>\n",
       "    </tr>\n",
       "    <tr>\n",
       "      <th>75%</th>\n",
       "      <td>41.000000</td>\n",
       "      <td>12.000000</td>\n",
       "      <td>38336.250000</td>\n",
       "      <td>86.572500</td>\n",
       "    </tr>\n",
       "    <tr>\n",
       "      <th>max</th>\n",
       "      <td>72.000000</td>\n",
       "      <td>23.000000</td>\n",
       "      <td>53977.000000</td>\n",
       "      <td>143.220000</td>\n",
       "    </tr>\n",
       "  </tbody>\n",
       "</table>\n",
       "</div>"
      ],
      "text/plain": [
       "                age           exp       salaire          note\n",
       "count  19408.000000  19408.000000  19408.000000  19408.000000\n",
       "mean      34.987162      9.497204  34970.906337     75.184858\n",
       "std        9.577133      3.005781   4988.966442     17.060947\n",
       "min       -3.000000     -2.000000  14128.000000      8.680000\n",
       "25%       29.000000      7.000000  31617.000000     63.820000\n",
       "50%       35.000000      9.000000  34970.906337     75.184858\n",
       "75%       41.000000     12.000000  38336.250000     86.572500\n",
       "max       72.000000     23.000000  53977.000000    143.220000"
      ]
     },
     "execution_count": 6,
     "metadata": {},
     "output_type": "execute_result"
    }
   ],
   "source": [
    "# Observons les données non catégoriques\n",
    "df[['age', 'exp', 'salaire', 'note']].describe()"
   ]
  },
  {
   "cell_type": "code",
   "execution_count": 7,
   "metadata": {},
   "outputs": [],
   "source": [
    "# Les notes sont sur 100 donc on regarde les notes qui sont au dessus de 100\n",
    "# Regardons également les âges <= 0 et trop bas\n",
    "# Regardons également les d'années d'expérience négatives\n",
    "# Regardons les personnes ayants un âge inférieur ou égal au nombre d'années d'expérience également"
   ]
  },
  {
   "cell_type": "code",
   "execution_count": 8,
   "metadata": {},
   "outputs": [
    {
     "name": "stdout",
     "output_type": "stream",
     "text": [
      "5\n",
      "1424\n",
      "2\n",
      "127\n"
     ]
    },
    {
     "data": {
      "text/html": [
       "<div>\n",
       "<style scoped>\n",
       "    .dataframe tbody tr th:only-of-type {\n",
       "        vertical-align: middle;\n",
       "    }\n",
       "\n",
       "    .dataframe tbody tr th {\n",
       "        vertical-align: top;\n",
       "    }\n",
       "\n",
       "    .dataframe thead th {\n",
       "        text-align: right;\n",
       "    }\n",
       "</style>\n",
       "<table border=\"1\" class=\"dataframe\">\n",
       "  <thead>\n",
       "    <tr style=\"text-align: right;\">\n",
       "      <th></th>\n",
       "      <th>age</th>\n",
       "      <th>exp</th>\n",
       "      <th>salaire</th>\n",
       "      <th>note</th>\n",
       "    </tr>\n",
       "  </thead>\n",
       "  <tbody>\n",
       "    <tr>\n",
       "      <th>count</th>\n",
       "      <td>17868.000000</td>\n",
       "      <td>17868.000000</td>\n",
       "      <td>17868.000000</td>\n",
       "      <td>17868.000000</td>\n",
       "    </tr>\n",
       "    <tr>\n",
       "      <th>mean</th>\n",
       "      <td>35.147635</td>\n",
       "      <td>9.480230</td>\n",
       "      <td>35301.385567</td>\n",
       "      <td>72.615651</td>\n",
       "    </tr>\n",
       "    <tr>\n",
       "      <th>std</th>\n",
       "      <td>9.363482</td>\n",
       "      <td>2.999916</td>\n",
       "      <td>4839.784533</td>\n",
       "      <td>14.862103</td>\n",
       "    </tr>\n",
       "    <tr>\n",
       "      <th>min</th>\n",
       "      <td>7.000000</td>\n",
       "      <td>0.000000</td>\n",
       "      <td>14128.000000</td>\n",
       "      <td>8.680000</td>\n",
       "    </tr>\n",
       "    <tr>\n",
       "      <th>25%</th>\n",
       "      <td>29.000000</td>\n",
       "      <td>7.000000</td>\n",
       "      <td>32039.000000</td>\n",
       "      <td>62.680000</td>\n",
       "    </tr>\n",
       "    <tr>\n",
       "      <th>50%</th>\n",
       "      <td>35.000000</td>\n",
       "      <td>9.000000</td>\n",
       "      <td>35243.500000</td>\n",
       "      <td>73.700000</td>\n",
       "    </tr>\n",
       "    <tr>\n",
       "      <th>75%</th>\n",
       "      <td>41.000000</td>\n",
       "      <td>11.000000</td>\n",
       "      <td>38561.250000</td>\n",
       "      <td>83.700000</td>\n",
       "    </tr>\n",
       "    <tr>\n",
       "      <th>max</th>\n",
       "      <td>72.000000</td>\n",
       "      <td>23.000000</td>\n",
       "      <td>53977.000000</td>\n",
       "      <td>100.000000</td>\n",
       "    </tr>\n",
       "  </tbody>\n",
       "</table>\n",
       "</div>"
      ],
      "text/plain": [
       "                age           exp       salaire          note\n",
       "count  17868.000000  17868.000000  17868.000000  17868.000000\n",
       "mean      35.147635      9.480230  35301.385567     72.615651\n",
       "std        9.363482      2.999916   4839.784533     14.862103\n",
       "min        7.000000      0.000000  14128.000000      8.680000\n",
       "25%       29.000000      7.000000  32039.000000     62.680000\n",
       "50%       35.000000      9.000000  35243.500000     73.700000\n",
       "75%       41.000000     11.000000  38561.250000     83.700000\n",
       "max       72.000000     23.000000  53977.000000    100.000000"
      ]
     },
     "execution_count": 8,
     "metadata": {},
     "output_type": "execute_result"
    }
   ],
   "source": [
    "# On supprime les données qui me semblent aberrantes  \n",
    "print(len(df[df['age']<=0]))\n",
    "print(len(df[df['note']>100]))\n",
    "print(len(df[df['exp']<0]))\n",
    "print(len(df[df['age']<=df['exp']]))\n",
    "\n",
    "df = df[(df['age']>0) & (df['note']<=100) & (df['exp']>=0) & (df['age']>df['exp'])]\n",
    "\n",
    "df[['age', 'exp', 'salaire', 'note']].describe()"
   ]
  },
  {
   "cell_type": "code",
   "execution_count": 9,
   "metadata": {},
   "outputs": [
    {
     "name": "stdout",
     "output_type": "stream",
     "text": [
      "             date  cheveux   age  exp  salaire sexe   diplome   specialite  \\\n",
      "164    2011-02-18     brun  10.0  9.0  38767.0    F    master  archeologie   \n",
      "405    2013-05-01    blond  10.0  6.0  39318.0    M   licence       forage   \n",
      "1080   2014-11-12  chatain   9.0  6.0  36375.0    F    master    detective   \n",
      "4782   2011-03-27  chatain  10.0  9.0  34707.0    F  doctorat    detective   \n",
      "4849   2011-01-20     brun   9.0  7.0  34444.0    F    master     geologie   \n",
      "5496   2010-06-07  chatain  10.0  1.0  33495.0    F   licence     geologie   \n",
      "8973   2014-09-30     brun   8.0  4.0  36759.0    F       bac     geologie   \n",
      "10193  2013-08-02     brun  10.0  9.0  29404.0    F   licence     geologie   \n",
      "15311  2011-04-14     brun  10.0  8.0  33489.0    F   licence     geologie   \n",
      "15390  2014-09-21     brun   8.0  7.0  33866.0    F   licence     geologie   \n",
      "15711  2013-01-08     brun   9.0  8.0  33851.0    M    master     geologie   \n",
      "16476  2011-01-23  chatain  10.0  4.0  31749.0    F    master    detective   \n",
      "16786  2014-09-14  chatain   7.0  5.0  36128.0    F    master     geologie   \n",
      "17077  2010-11-15     brun  10.0  7.0  32491.0    F    master       forage   \n",
      "17202  2011-07-01     brun   9.0  7.0  25490.0    M    master     geologie   \n",
      "17689  2011-08-05    blond   8.0  2.0  33359.0    M    master     geologie   \n",
      "18106  2010-04-28  chatain   9.0  7.0  31391.0    F  doctorat       forage   \n",
      "18215  2010-02-21     roux  10.0  8.0  30285.0    M   licence     geologie   \n",
      "18628  2012-08-15     roux  10.0  9.0  37551.0    M   licence       forage   \n",
      "18899  2012-12-03  chatain   9.0  8.0  32440.0    F   licence     geologie   \n",
      "\n",
      "        note dispo  embauche  \n",
      "164    89.16   oui         0  \n",
      "405    69.82   oui         0  \n",
      "1080   59.23   non         0  \n",
      "4782   98.51   oui         0  \n",
      "4849   80.20   non         0  \n",
      "5496   60.41   non         0  \n",
      "8973   80.83   non         0  \n",
      "10193  74.68   non         0  \n",
      "15311  79.22   non         0  \n",
      "15390  97.46   non         0  \n",
      "15711  90.46   oui         0  \n",
      "16476  98.55   oui         0  \n",
      "16786  90.99   non         0  \n",
      "17077  92.35   oui         1  \n",
      "17202  84.18   non         0  \n",
      "17689  81.01   non         0  \n",
      "18106  75.67   non         0  \n",
      "18215  65.07   non         0  \n",
      "18628  69.54   oui         0  \n",
      "18899  85.38   non         0  \n"
     ]
    },
    {
     "data": {
      "text/html": [
       "<div>\n",
       "<style scoped>\n",
       "    .dataframe tbody tr th:only-of-type {\n",
       "        vertical-align: middle;\n",
       "    }\n",
       "\n",
       "    .dataframe tbody tr th {\n",
       "        vertical-align: top;\n",
       "    }\n",
       "\n",
       "    .dataframe thead th {\n",
       "        text-align: right;\n",
       "    }\n",
       "</style>\n",
       "<table border=\"1\" class=\"dataframe\">\n",
       "  <thead>\n",
       "    <tr style=\"text-align: right;\">\n",
       "      <th></th>\n",
       "      <th>age</th>\n",
       "      <th>exp</th>\n",
       "      <th>salaire</th>\n",
       "      <th>note</th>\n",
       "    </tr>\n",
       "  </thead>\n",
       "  <tbody>\n",
       "    <tr>\n",
       "      <th>count</th>\n",
       "      <td>17848.000000</td>\n",
       "      <td>17848.000000</td>\n",
       "      <td>17848.000000</td>\n",
       "      <td>17848.000000</td>\n",
       "    </tr>\n",
       "    <tr>\n",
       "      <th>mean</th>\n",
       "      <td>35.176655</td>\n",
       "      <td>9.483514</td>\n",
       "      <td>35303.103895</td>\n",
       "      <td>72.606103</td>\n",
       "    </tr>\n",
       "    <tr>\n",
       "      <th>std</th>\n",
       "      <td>9.328436</td>\n",
       "      <td>2.999049</td>\n",
       "      <td>4841.031696</td>\n",
       "      <td>14.862451</td>\n",
       "    </tr>\n",
       "    <tr>\n",
       "      <th>min</th>\n",
       "      <td>11.000000</td>\n",
       "      <td>0.000000</td>\n",
       "      <td>14128.000000</td>\n",
       "      <td>8.680000</td>\n",
       "    </tr>\n",
       "    <tr>\n",
       "      <th>25%</th>\n",
       "      <td>29.000000</td>\n",
       "      <td>7.000000</td>\n",
       "      <td>32039.000000</td>\n",
       "      <td>62.670000</td>\n",
       "    </tr>\n",
       "    <tr>\n",
       "      <th>50%</th>\n",
       "      <td>35.000000</td>\n",
       "      <td>9.000000</td>\n",
       "      <td>35246.000000</td>\n",
       "      <td>73.690000</td>\n",
       "    </tr>\n",
       "    <tr>\n",
       "      <th>75%</th>\n",
       "      <td>41.000000</td>\n",
       "      <td>11.000000</td>\n",
       "      <td>38566.000000</td>\n",
       "      <td>83.680000</td>\n",
       "    </tr>\n",
       "    <tr>\n",
       "      <th>max</th>\n",
       "      <td>72.000000</td>\n",
       "      <td>23.000000</td>\n",
       "      <td>53977.000000</td>\n",
       "      <td>100.000000</td>\n",
       "    </tr>\n",
       "  </tbody>\n",
       "</table>\n",
       "</div>"
      ],
      "text/plain": [
       "                age           exp       salaire          note\n",
       "count  17848.000000  17848.000000  17848.000000  17848.000000\n",
       "mean      35.176655      9.483514  35303.103895     72.606103\n",
       "std        9.328436      2.999049   4841.031696     14.862451\n",
       "min       11.000000      0.000000  14128.000000      8.680000\n",
       "25%       29.000000      7.000000  32039.000000     62.670000\n",
       "50%       35.000000      9.000000  35246.000000     73.690000\n",
       "75%       41.000000     11.000000  38566.000000     83.680000\n",
       "max       72.000000     23.000000  53977.000000    100.000000"
      ]
     },
     "execution_count": 9,
     "metadata": {},
     "output_type": "execute_result"
    }
   ],
   "source": [
    "print(df[df['age']<=10])\n",
    "# On peut supposer que ces données sont aberrantes car ces gens là ont moins de 10 ans et un nombre d'années\n",
    "# d'expérience considérable par rapport à leur âge pour certains ainsi qu'un diplôme pour la plupart \n",
    "# nécessitant plusieurs années d'études afin de l'obtenir.\n",
    "# Je décide donc de supprimer ces données du dataset\n",
    "\n",
    "df = df[df['age']>10]\n",
    "df[['age', 'exp', 'salaire', 'note']].describe()"
   ]
  },
  {
   "cell_type": "markdown",
   "metadata": {},
   "source": [
    "# Partie I: Statistiques descriptives"
   ]
  },
  {
   "cell_type": "markdown",
   "metadata": {},
   "source": [
    "## Décrire le jeu de données."
   ]
  },
  {
   "cell_type": "code",
   "execution_count": 10,
   "metadata": {},
   "outputs": [
    {
     "name": "stdout",
     "output_type": "stream",
     "text": [
      "0    0.883853\n",
      "1    0.116147\n",
      "Name: embauche, dtype: float64\n"
     ]
    },
    {
     "data": {
      "image/png": "[encoded data removed]",
      "text/plain": [
       "<Figure size 432x288 with 1 Axes>"
      ]
     },
     "metadata": {},
     "output_type": "display_data"
    }
   ],
   "source": [
    "# Taille des clusters\n",
    "len_clusters = df['embauche'].value_counts()\n",
    "print(len_clusters/sum(len_clusters))\n",
    "\n",
    "# Plot\n",
    "plt.pie(len_clusters, labels=['non embauche', 'embauche'])\n",
    "plt.axis('equal')\n",
    "plt.title('embauche plot')\n",
    "plt.show()"
   ]
  },
  {
   "cell_type": "raw",
   "metadata": {},
   "source": [
    "On voit clairement que les classes sont asymétriques (12% vs 88%)"
   ]
  },
  {
   "cell_type": "code",
   "execution_count": 11,
   "metadata": {},
   "outputs": [
    {
     "name": "stdout",
     "output_type": "stream",
     "text": [
      "geologie       0.516865\n",
      "forage         0.216887\n",
      "detective      0.201871\n",
      "archeologie    0.064377\n",
      "Name: specialite, dtype: float64\n",
      "blond      0.304180\n",
      "brun       0.303956\n",
      "chatain    0.295271\n",
      "roux       0.096593\n",
      "Name: cheveux, dtype: float64\n",
      "M    0.620798\n",
      "F    0.379202\n",
      "Name: sexe, dtype: float64\n",
      "licence     0.392593\n",
      "master      0.375616\n",
      "bac         0.131331\n",
      "doctorat    0.100459\n",
      "Name: diplome, dtype: float64\n",
      "non    0.622535\n",
      "oui    0.377465\n",
      "Name: dispo, dtype: float64\n"
     ]
    },
    {
     "data": {
      "image/png": "[encoded data removed]",
      "text/plain": [
       "<Figure size 1000x800 with 4 Axes>"
      ]
     },
     "metadata": {},
     "output_type": "display_data"
    }
   ],
   "source": [
    "# Distribution et plot des données catégoriques\n",
    "\n",
    "print(df['specialite'].value_counts()/sum(df['specialite'].value_counts()))\n",
    "print(df['cheveux'].value_counts()/sum(df['cheveux'].value_counts()))\n",
    "print(df['sexe'].value_counts()/sum(df['sexe'].value_counts()))\n",
    "print(df['diplome'].value_counts()/sum(df['diplome'].value_counts()))\n",
    "print(df['dispo'].value_counts()/sum(df['dispo'].value_counts()))\n",
    "\n",
    "\n",
    "plt.figure(num=None, figsize=(10, 8), dpi=100)\n",
    "\n",
    "# specialite\n",
    "plt.subplot(221)\n",
    "#plt.subplot(shape=(2,6), loc=(0,0), colspan=2)\n",
    "plt.bar(df['specialite'].value_counts().index, df['specialite'].value_counts())\n",
    "plt.title('specialite distribution')\n",
    "#plt.grid(True)\n",
    "\n",
    "\n",
    "# cheveux\n",
    "plt.subplot(222)\n",
    "#plt.subplot((2,6), (0,2), colspan=2)\n",
    "plt.bar(df['cheveux'].value_counts().index, df['cheveux'].value_counts())\n",
    "plt.title('cheveux distribution')\n",
    "#plt.grid(True)\n",
    "\n",
    "\n",
    "# sexe\n",
    "plt.subplot(223)\n",
    "#plt.subplot((2,6), (0,4), colspan=2)\n",
    "plt.bar(df['sexe'].value_counts().index, df['sexe'].value_counts())\n",
    "plt.title('sexe distribution')\n",
    "#plt.grid(True)\n",
    "\n",
    "# diplome\n",
    "plt.subplot(224)\n",
    "#plt.subplot((2,6), (1,1), colspan=2)\n",
    "plt.bar(df['diplome'].value_counts().index, df['diplome'].value_counts())\n",
    "plt.title('diplome distribution')\n",
    "#plt.grid(True)\n",
    "\n",
    "\n",
    "#plt.figure.tight_layout()\n",
    "plt.show()"
   ]
  },
  {
   "cell_type": "code",
   "execution_count": 12,
   "metadata": {},
   "outputs": [
    {
     "data": {
      "image/png": "[encoded data removed]",
      "text/plain": [
       "<Figure size 1000x800 with 4 Axes>"
      ]
     },
     "metadata": {},
     "output_type": "display_data"
    }
   ],
   "source": [
    "# Plot des distributions des données quantitatives\n",
    "\n",
    "plt.figure(num=None, figsize=(10, 8), dpi=100)\n",
    "\n",
    "# specialite\n",
    "plt.subplot(221)\n",
    "plt.hist(df['age'])\n",
    "plt.title('age distribution')\n",
    "#plt.grid(True)\n",
    "\n",
    "\n",
    "# cheveux\n",
    "plt.subplot(222)\n",
    "plt.hist(df['exp'])\n",
    "plt.title('exp distribution')\n",
    "\n",
    "\n",
    "# sexe\n",
    "plt.subplot(223)\n",
    "plt.hist(df['note'])\n",
    "plt.title('note distribution')\n",
    "\n",
    "# diplome\n",
    "plt.subplot(224)\n",
    "plt.hist(df['salaire'])\n",
    "plt.title('salaire distribution')\n",
    "\n",
    "plt.show()"
   ]
  },
  {
   "cell_type": "markdown",
   "metadata": {},
   "source": [
    "## Corrélation"
   ]
  },
  {
   "cell_type": "markdown",
   "metadata": {},
   "source": [
    "### Données quantitatives"
   ]
  },
  {
   "cell_type": "code",
   "execution_count": 13,
   "metadata": {},
   "outputs": [
    {
     "data": {
      "text/html": [
       "<style  type=\"text/css\" >\n",
       "    #T_83dd12ae_55f3_11e8_a8a3_acbc32a87445row0_col0 {\n",
       "            background-color:  #b40426;\n",
       "        }    #T_83dd12ae_55f3_11e8_a8a3_acbc32a87445row0_col1 {\n",
       "            background-color:  #3e51c5;\n",
       "        }    #T_83dd12ae_55f3_11e8_a8a3_acbc32a87445row0_col2 {\n",
       "            background-color:  #3d50c3;\n",
       "        }    #T_83dd12ae_55f3_11e8_a8a3_acbc32a87445row0_col3 {\n",
       "            background-color:  #3b4cc0;\n",
       "        }    #T_83dd12ae_55f3_11e8_a8a3_acbc32a87445row1_col0 {\n",
       "            background-color:  #4055c8;\n",
       "        }    #T_83dd12ae_55f3_11e8_a8a3_acbc32a87445row1_col1 {\n",
       "            background-color:  #b40426;\n",
       "        }    #T_83dd12ae_55f3_11e8_a8a3_acbc32a87445row1_col2 {\n",
       "            background-color:  #4257c9;\n",
       "        }    #T_83dd12ae_55f3_11e8_a8a3_acbc32a87445row1_col3 {\n",
       "            background-color:  #3b4cc0;\n",
       "        }    #T_83dd12ae_55f3_11e8_a8a3_acbc32a87445row2_col0 {\n",
       "            background-color:  #9abbff;\n",
       "        }    #T_83dd12ae_55f3_11e8_a8a3_acbc32a87445row2_col1 {\n",
       "            background-color:  #9bbcff;\n",
       "        }    #T_83dd12ae_55f3_11e8_a8a3_acbc32a87445row2_col2 {\n",
       "            background-color:  #b40426;\n",
       "        }    #T_83dd12ae_55f3_11e8_a8a3_acbc32a87445row2_col3 {\n",
       "            background-color:  #3b4cc0;\n",
       "        }    #T_83dd12ae_55f3_11e8_a8a3_acbc32a87445row3_col0 {\n",
       "            background-color:  #97b8ff;\n",
       "        }    #T_83dd12ae_55f3_11e8_a8a3_acbc32a87445row3_col1 {\n",
       "            background-color:  #96b7ff;\n",
       "        }    #T_83dd12ae_55f3_11e8_a8a3_acbc32a87445row3_col2 {\n",
       "            background-color:  #3b4cc0;\n",
       "        }    #T_83dd12ae_55f3_11e8_a8a3_acbc32a87445row3_col3 {\n",
       "            background-color:  #b40426;\n",
       "        }</style>  \n",
       "<table id=\"T_83dd12ae_55f3_11e8_a8a3_acbc32a87445\" > \n",
       "<thead>    <tr> \n",
       "        <th class=\"blank level0\" ></th> \n",
       "        <th class=\"col_heading level0 col0\" >age</th> \n",
       "        <th class=\"col_heading level0 col1\" >exp</th> \n",
       "        <th class=\"col_heading level0 col2\" >salaire</th> \n",
       "        <th class=\"col_heading level0 col3\" >note</th> \n",
       "    </tr></thead> \n",
       "<tbody>    <tr> \n",
       "        <th id=\"T_83dd12ae_55f3_11e8_a8a3_acbc32a87445level0_row0\" class=\"row_heading level0 row0\" >age</th> \n",
       "        <td id=\"T_83dd12ae_55f3_11e8_a8a3_acbc32a87445row0_col0\" class=\"data row0 col0\" >1.0</td> \n",
       "        <td id=\"T_83dd12ae_55f3_11e8_a8a3_acbc32a87445row0_col1\" class=\"data row0 col1\" >0.0064</td> \n",
       "        <td id=\"T_83dd12ae_55f3_11e8_a8a3_acbc32a87445row0_col2\" class=\"data row0 col2\" >0.0031</td> \n",
       "        <td id=\"T_83dd12ae_55f3_11e8_a8a3_acbc32a87445row0_col3\" class=\"data row0 col3\" >-0.0081</td> \n",
       "    </tr>    <tr> \n",
       "        <th id=\"T_83dd12ae_55f3_11e8_a8a3_acbc32a87445level0_row1\" class=\"row_heading level0 row1\" >exp</th> \n",
       "        <td id=\"T_83dd12ae_55f3_11e8_a8a3_acbc32a87445row1_col0\" class=\"data row1 col0\" >0.0064</td> \n",
       "        <td id=\"T_83dd12ae_55f3_11e8_a8a3_acbc32a87445row1_col1\" class=\"data row1 col1\" >1.0</td> \n",
       "        <td id=\"T_83dd12ae_55f3_11e8_a8a3_acbc32a87445row1_col2\" class=\"data row1 col2\" >0.0083</td> \n",
       "        <td id=\"T_83dd12ae_55f3_11e8_a8a3_acbc32a87445row1_col3\" class=\"data row1 col3\" >-0.016</td> \n",
       "    </tr>    <tr> \n",
       "        <th id=\"T_83dd12ae_55f3_11e8_a8a3_acbc32a87445level0_row2\" class=\"row_heading level0 row2\" >salaire</th> \n",
       "        <td id=\"T_83dd12ae_55f3_11e8_a8a3_acbc32a87445row2_col0\" class=\"data row2 col0\" >0.0031</td> \n",
       "        <td id=\"T_83dd12ae_55f3_11e8_a8a3_acbc32a87445row2_col1\" class=\"data row2 col1\" >0.0083</td> \n",
       "        <td id=\"T_83dd12ae_55f3_11e8_a8a3_acbc32a87445row2_col2\" class=\"data row2 col2\" >1.0</td> \n",
       "        <td id=\"T_83dd12ae_55f3_11e8_a8a3_acbc32a87445row2_col3\" class=\"data row2 col3\" >-0.4</td> \n",
       "    </tr>    <tr> \n",
       "        <th id=\"T_83dd12ae_55f3_11e8_a8a3_acbc32a87445level0_row3\" class=\"row_heading level0 row3\" >note</th> \n",
       "        <td id=\"T_83dd12ae_55f3_11e8_a8a3_acbc32a87445row3_col0\" class=\"data row3 col0\" >-0.0081</td> \n",
       "        <td id=\"T_83dd12ae_55f3_11e8_a8a3_acbc32a87445row3_col1\" class=\"data row3 col1\" >-0.016</td> \n",
       "        <td id=\"T_83dd12ae_55f3_11e8_a8a3_acbc32a87445row3_col2\" class=\"data row3 col2\" >-0.4</td> \n",
       "        <td id=\"T_83dd12ae_55f3_11e8_a8a3_acbc32a87445row3_col3\" class=\"data row3 col3\" >1.0</td> \n",
       "    </tr></tbody> \n",
       "</table> "
      ],
      "text/plain": [
       "<pandas.io.formats.style.Styler at 0x10af61240>"
      ]
     },
     "execution_count": 13,
     "metadata": {},
     "output_type": "execute_result"
    }
   ],
   "source": [
    "# Regardons s'il existe une corrélation linéaire entre les variables quantitatives\n",
    "df[['age', 'exp', 'salaire', 'note']].corr(method='pearson').style.format(\"{:.2}\").background_gradient(cmap=plt.get_cmap('coolwarm'), axis=1)"
   ]
  },
  {
   "cell_type": "code",
   "execution_count": 14,
   "metadata": {},
   "outputs": [
    {
     "data": {
      "text/html": [
       "<style  type=\"text/css\" >\n",
       "    #T_83e8ed06_55f3_11e8_8c71_acbc32a87445row0_col0 {\n",
       "            background-color:  #b40426;\n",
       "        }    #T_83e8ed06_55f3_11e8_8c71_acbc32a87445row0_col1 {\n",
       "            background-color:  #3d50c3;\n",
       "        }    #T_83e8ed06_55f3_11e8_8c71_acbc32a87445row0_col2 {\n",
       "            background-color:  #3e51c5;\n",
       "        }    #T_83e8ed06_55f3_11e8_8c71_acbc32a87445row0_col3 {\n",
       "            background-color:  #3b4cc0;\n",
       "        }    #T_83e8ed06_55f3_11e8_8c71_acbc32a87445row1_col0 {\n",
       "            background-color:  #3f53c6;\n",
       "        }    #T_83e8ed06_55f3_11e8_8c71_acbc32a87445row1_col1 {\n",
       "            background-color:  #b40426;\n",
       "        }    #T_83e8ed06_55f3_11e8_8c71_acbc32a87445row1_col2 {\n",
       "            background-color:  #4055c8;\n",
       "        }    #T_83e8ed06_55f3_11e8_8c71_acbc32a87445row1_col3 {\n",
       "            background-color:  #3b4cc0;\n",
       "        }    #T_83e8ed06_55f3_11e8_8c71_acbc32a87445row2_col0 {\n",
       "            background-color:  #96b7ff;\n",
       "        }    #T_83e8ed06_55f3_11e8_8c71_acbc32a87445row2_col1 {\n",
       "            background-color:  #97b8ff;\n",
       "        }    #T_83e8ed06_55f3_11e8_8c71_acbc32a87445row2_col2 {\n",
       "            background-color:  #b40426;\n",
       "        }    #T_83e8ed06_55f3_11e8_8c71_acbc32a87445row2_col3 {\n",
       "            background-color:  #3b4cc0;\n",
       "        }    #T_83e8ed06_55f3_11e8_8c71_acbc32a87445row3_col0 {\n",
       "            background-color:  #93b5fe;\n",
       "        }    #T_83e8ed06_55f3_11e8_8c71_acbc32a87445row3_col1 {\n",
       "            background-color:  #92b4fe;\n",
       "        }    #T_83e8ed06_55f3_11e8_8c71_acbc32a87445row3_col2 {\n",
       "            background-color:  #3b4cc0;\n",
       "        }    #T_83e8ed06_55f3_11e8_8c71_acbc32a87445row3_col3 {\n",
       "            background-color:  #b40426;\n",
       "        }</style>  \n",
       "<table id=\"T_83e8ed06_55f3_11e8_8c71_acbc32a87445\" > \n",
       "<thead>    <tr> \n",
       "        <th class=\"blank level0\" ></th> \n",
       "        <th class=\"col_heading level0 col0\" >age</th> \n",
       "        <th class=\"col_heading level0 col1\" >exp</th> \n",
       "        <th class=\"col_heading level0 col2\" >salaire</th> \n",
       "        <th class=\"col_heading level0 col3\" >note</th> \n",
       "    </tr></thead> \n",
       "<tbody>    <tr> \n",
       "        <th id=\"T_83e8ed06_55f3_11e8_8c71_acbc32a87445level0_row0\" class=\"row_heading level0 row0\" >age</th> \n",
       "        <td id=\"T_83e8ed06_55f3_11e8_8c71_acbc32a87445row0_col0\" class=\"data row0 col0\" >1.0</td> \n",
       "        <td id=\"T_83e8ed06_55f3_11e8_8c71_acbc32a87445row0_col1\" class=\"data row0 col1\" >0.00011</td> \n",
       "        <td id=\"T_83e8ed06_55f3_11e8_8c71_acbc32a87445row0_col2\" class=\"data row0 col2\" >0.0019</td> \n",
       "        <td id=\"T_83e8ed06_55f3_11e8_8c71_acbc32a87445row0_col3\" class=\"data row0 col3\" >-0.01</td> \n",
       "    </tr>    <tr> \n",
       "        <th id=\"T_83e8ed06_55f3_11e8_8c71_acbc32a87445level0_row1\" class=\"row_heading level0 row1\" >exp</th> \n",
       "        <td id=\"T_83e8ed06_55f3_11e8_8c71_acbc32a87445row1_col0\" class=\"data row1 col0\" >0.00011</td> \n",
       "        <td id=\"T_83e8ed06_55f3_11e8_8c71_acbc32a87445row1_col1\" class=\"data row1 col1\" >1.0</td> \n",
       "        <td id=\"T_83e8ed06_55f3_11e8_8c71_acbc32a87445row1_col2\" class=\"data row1 col2\" >0.0051</td> \n",
       "        <td id=\"T_83e8ed06_55f3_11e8_8c71_acbc32a87445row1_col3\" class=\"data row1 col3\" >-0.016</td> \n",
       "    </tr>    <tr> \n",
       "        <th id=\"T_83e8ed06_55f3_11e8_8c71_acbc32a87445level0_row2\" class=\"row_heading level0 row2\" >salaire</th> \n",
       "        <td id=\"T_83e8ed06_55f3_11e8_8c71_acbc32a87445row2_col0\" class=\"data row2 col0\" >0.0019</td> \n",
       "        <td id=\"T_83e8ed06_55f3_11e8_8c71_acbc32a87445row2_col1\" class=\"data row2 col1\" >0.0051</td> \n",
       "        <td id=\"T_83e8ed06_55f3_11e8_8c71_acbc32a87445row2_col2\" class=\"data row2 col2\" >1.0</td> \n",
       "        <td id=\"T_83e8ed06_55f3_11e8_8c71_acbc32a87445row2_col3\" class=\"data row2 col3\" >-0.38</td> \n",
       "    </tr>    <tr> \n",
       "        <th id=\"T_83e8ed06_55f3_11e8_8c71_acbc32a87445level0_row3\" class=\"row_heading level0 row3\" >note</th> \n",
       "        <td id=\"T_83e8ed06_55f3_11e8_8c71_acbc32a87445row3_col0\" class=\"data row3 col0\" >-0.01</td> \n",
       "        <td id=\"T_83e8ed06_55f3_11e8_8c71_acbc32a87445row3_col1\" class=\"data row3 col1\" >-0.016</td> \n",
       "        <td id=\"T_83e8ed06_55f3_11e8_8c71_acbc32a87445row3_col2\" class=\"data row3 col2\" >-0.38</td> \n",
       "        <td id=\"T_83e8ed06_55f3_11e8_8c71_acbc32a87445row3_col3\" class=\"data row3 col3\" >1.0</td> \n",
       "    </tr></tbody> \n",
       "</table> "
      ],
      "text/plain": [
       "<pandas.io.formats.style.Styler at 0x10c7739e8>"
      ]
     },
     "execution_count": 14,
     "metadata": {},
     "output_type": "execute_result"
    }
   ],
   "source": [
    "# Regardons s'il existe une corrélation monotone entre les variables quantitatives\n",
    "df[['age', 'exp', 'salaire', 'note']].corr(method='spearman').style.format(\"{:.2}\").background_gradient(cmap=plt.get_cmap('coolwarm'), axis=1)"
   ]
  },
  {
   "cell_type": "raw",
   "metadata": {},
   "source": [
    "Il se dégage principalement des tableaux qu'il existe une corrélation linéaire et monotone entre la note et le salaire. Et comme le coefficient est autour de 0,4, on en déduit que la corrélation est relativement faible."
   ]
  },
  {
   "cell_type": "code",
   "execution_count": 15,
   "metadata": {},
   "outputs": [
    {
     "data": {
      "image/png": "[encoded data removed]",
      "text/plain": [
       "<Figure size 432x288 with 1 Axes>"
      ]
     },
     "metadata": {},
     "output_type": "display_data"
    }
   ],
   "source": [
    "plt.plot(df['salaire'], df['note'], 'o')\n",
    "plt.xlabel('salaire')\n",
    "plt.ylabel('Note')\n",
    "plt.title('note obtenue en fonction du salaire')\n",
    "plt.show()"
   ]
  },
  {
   "cell_type": "raw",
   "metadata": {},
   "source": [
    "On voit que la note a tendance à tendre vers le bas quand le salaire augmente."
   ]
  },
  {
   "cell_type": "raw",
   "metadata": {},
   "source": [
    "Pour le reste des données, il ne semble pas y avoir de corrélation linéaire ou monotone significative entre les autres variables. Les coefficients sont en valeur absolue inférieurs à 2%."
   ]
  },
  {
   "cell_type": "markdown",
   "metadata": {},
   "source": [
    "## Y a-t-il une dépendance statistiquement significative entre"
   ]
  },
  {
   "cell_type": "markdown",
   "metadata": {},
   "source": [
    "### c) Le nombre d’années d’expérience et la note à l’exercice ?"
   ]
  },
  {
   "cell_type": "code",
   "execution_count": 16,
   "metadata": {},
   "outputs": [
    {
     "data": {
      "image/png": "[encoded data removed]",
      "text/plain": [
       "<Figure size 432x288 with 1 Axes>"
      ]
     },
     "metadata": {},
     "output_type": "display_data"
    }
   ],
   "source": [
    "# Plotons une variable en fonction de l'autre pour voir si un type de corrélation\n",
    "# particulier s'en dégage\n",
    "plt.plot(df['exp'], df['note'], 'o')\n",
    "plt.xlabel('expérience')\n",
    "plt.ylabel('Note')\n",
    "plt.title('note obtenue en fonction de l\\'expérience')\n",
    "plt.show()"
   ]
  },
  {
   "cell_type": "raw",
   "metadata": {},
   "source": [
    "Selon le nuage de points et il ne semble pas y a voir de corrélation significtive entre les 2 variables.\n",
    "\n",
    "Les coefficients de corrélation de Pearson et de Spearman sont tous les deux de -1,6%. (Tableau de corrélations plus haut).\n",
    "On en déduit donc qu'il n'y a pas de corrélation linéaire ou monotone significative entre ces 2 variables."
   ]
  },
  {
   "cell_type": "markdown",
   "metadata": {},
   "source": [
    "### a)\tLa spécialité et le sexe ?"
   ]
  },
  {
   "cell_type": "code",
   "execution_count": 17,
   "metadata": {},
   "outputs": [
    {
     "data": {
      "text/html": [
       "<div>\n",
       "<style scoped>\n",
       "    .dataframe tbody tr th:only-of-type {\n",
       "        vertical-align: middle;\n",
       "    }\n",
       "\n",
       "    .dataframe tbody tr th {\n",
       "        vertical-align: top;\n",
       "    }\n",
       "\n",
       "    .dataframe thead th {\n",
       "        text-align: right;\n",
       "    }\n",
       "</style>\n",
       "<table border=\"1\" class=\"dataframe\">\n",
       "  <thead>\n",
       "    <tr style=\"text-align: right;\">\n",
       "      <th>specialite</th>\n",
       "      <th>archeologie</th>\n",
       "      <th>detective</th>\n",
       "      <th>forage</th>\n",
       "      <th>geologie</th>\n",
       "    </tr>\n",
       "    <tr>\n",
       "      <th>sexe</th>\n",
       "      <th></th>\n",
       "      <th></th>\n",
       "      <th></th>\n",
       "      <th></th>\n",
       "    </tr>\n",
       "  </thead>\n",
       "  <tbody>\n",
       "    <tr>\n",
       "      <th>F</th>\n",
       "      <td>884</td>\n",
       "      <td>2109</td>\n",
       "      <td>1674</td>\n",
       "      <td>2101</td>\n",
       "    </tr>\n",
       "    <tr>\n",
       "      <th>M</th>\n",
       "      <td>265</td>\n",
       "      <td>1494</td>\n",
       "      <td>2197</td>\n",
       "      <td>7124</td>\n",
       "    </tr>\n",
       "  </tbody>\n",
       "</table>\n",
       "</div>"
      ],
      "text/plain": [
       "specialite  archeologie  detective  forage  geologie\n",
       "sexe                                                \n",
       "F                   884       2109    1674      2101\n",
       "M                   265       1494    2197      7124"
      ]
     },
     "execution_count": 17,
     "metadata": {},
     "output_type": "execute_result"
    }
   ],
   "source": [
    "# Relation entre le sexe et la spécialité\n",
    "pivot = pd.pivot_table(df.groupby(['sexe', 'specialite']).count()[['date']].reset_index(), \n",
    "               index='sexe', \n",
    "               columns='specialite',\n",
    "               values='date')\n",
    "\n",
    "pivot"
   ]
  },
  {
   "cell_type": "raw",
   "metadata": {},
   "source": [
    "Il y a 62% d'hommes et 38% de femmes dans l'échantillon.\n",
    "Pourtant il y a seulement 265 hommes étudiants l'archéologie contre 884 femmes => 77% de femmes vs 23% d'hommes.\n",
    "Pareil pour la spécialité detective où 59% sont des femmes et 41% des hommes.\n",
    "Les hommes sont plus majoritaires dans les spécialités forage (57% d'hommes vs 43% de femmes) et géologie (77% d'hommes contre 33% de femmes).\n",
    "\n",
    "La table de contingence semble indiquer que les variables sont dépendantes.\n",
    "\n",
    "On utilise un test du Chi2 adapté aux tables de contingence pour tester la dépendance entre les 2 variables.\n",
    "L’Hypothèse nulle est que les 2 variables sont indépendantes."
   ]
  },
  {
   "cell_type": "code",
   "execution_count": 18,
   "metadata": {},
   "outputs": [],
   "source": [
    "chi2, p, dof, expected = chi2_contingency(pivot.values)"
   ]
  },
  {
   "cell_type": "code",
   "execution_count": 19,
   "metadata": {},
   "outputs": [
    {
     "name": "stdout",
     "output_type": "stream",
     "text": [
      "[[ 435.70327208 1366.26535186 1467.89152846 3498.1398476 ]\n",
      " [ 713.29672792 2236.73464814 2403.10847154 5726.8601524 ]]\n"
     ]
    }
   ],
   "source": [
    "print(expected)\n",
    "# La table de contingence attendue sous l'hypothèse nulle"
   ]
  },
  {
   "cell_type": "code",
   "execution_count": 20,
   "metadata": {},
   "outputs": [
    {
     "name": "stdout",
     "output_type": "stream",
     "text": [
      "2338.8826190635277 0.0\n"
     ]
    }
   ],
   "source": [
    "print(chi2, p)"
   ]
  },
  {
   "cell_type": "raw",
   "metadata": {},
   "source": [
    "La p-valeur obtenue est inférieure à 1%.\n",
    "Donc on rejette l’hypothèse H0 d’indépendance entre les variables et on déduit que les variables sont dépendantes."
   ]
  },
  {
   "cell_type": "markdown",
   "metadata": {},
   "source": [
    "### b) La couleur de cheveux et le salaire demandé ?"
   ]
  },
  {
   "cell_type": "code",
   "execution_count": 21,
   "metadata": {},
   "outputs": [
    {
     "name": "stderr",
     "output_type": "stream",
     "text": [
      "/Users/bzerroug/.virtualenvs/project_/lib/python3.6/site-packages/ipykernel_launcher.py:1: FutureWarning: using a dict on a Series for aggregation\n",
      "is deprecated and will be removed in a future version\n",
      "  \"\"\"Entry point for launching an IPython kernel.\n"
     ]
    },
    {
     "data": {
      "text/html": [
       "<div>\n",
       "<style scoped>\n",
       "    .dataframe tbody tr th:only-of-type {\n",
       "        vertical-align: middle;\n",
       "    }\n",
       "\n",
       "    .dataframe tbody tr th {\n",
       "        vertical-align: top;\n",
       "    }\n",
       "\n",
       "    .dataframe thead th {\n",
       "        text-align: right;\n",
       "    }\n",
       "</style>\n",
       "<table border=\"1\" class=\"dataframe\">\n",
       "  <thead>\n",
       "    <tr style=\"text-align: right;\">\n",
       "      <th></th>\n",
       "      <th>count</th>\n",
       "      <th>mean</th>\n",
       "      <th>std</th>\n",
       "    </tr>\n",
       "    <tr>\n",
       "      <th>cheveux</th>\n",
       "      <th></th>\n",
       "      <th></th>\n",
       "      <th></th>\n",
       "    </tr>\n",
       "  </thead>\n",
       "  <tbody>\n",
       "    <tr>\n",
       "      <th>blond</th>\n",
       "      <td>5429</td>\n",
       "      <td>34966.917014</td>\n",
       "      <td>4863.050373</td>\n",
       "    </tr>\n",
       "    <tr>\n",
       "      <th>brun</th>\n",
       "      <td>5425</td>\n",
       "      <td>35385.447028</td>\n",
       "      <td>4749.799713</td>\n",
       "    </tr>\n",
       "    <tr>\n",
       "      <th>chatain</th>\n",
       "      <td>5270</td>\n",
       "      <td>35827.884891</td>\n",
       "      <td>4857.756400</td>\n",
       "    </tr>\n",
       "    <tr>\n",
       "      <th>roux</th>\n",
       "      <td>1724</td>\n",
       "      <td>34498.493239</td>\n",
       "      <td>4816.026943</td>\n",
       "    </tr>\n",
       "  </tbody>\n",
       "</table>\n",
       "</div>"
      ],
      "text/plain": [
       "         count          mean          std\n",
       "cheveux                                  \n",
       "blond     5429  34966.917014  4863.050373\n",
       "brun      5425  35385.447028  4749.799713\n",
       "chatain   5270  35827.884891  4857.756400\n",
       "roux      1724  34498.493239  4816.026943"
      ]
     },
     "execution_count": 21,
     "metadata": {},
     "output_type": "execute_result"
    }
   ],
   "source": [
    "df.groupby('cheveux')['salaire'].agg({'count':'size', 'mean':'mean', 'std':np.std})"
   ]
  },
  {
   "cell_type": "raw",
   "metadata": {},
   "source": [
    "Nous affichons dans un premier temps les valeurs du salaire en fonction des cheveux sous forme d’un diagramme en boite pour avoir une idée visuelle.\n",
    "Nous considérons que le salaire de chaque couleur de cheveux est un sous-échantillon.\n",
    "En effet si les sous-échantillons se comportent de manière identique, c’est que la variable cheveux n’a pas d’impact sur le salaire."
   ]
  },
  {
   "cell_type": "code",
   "execution_count": 22,
   "metadata": {},
   "outputs": [
    {
     "name": "stderr",
     "output_type": "stream",
     "text": [
      "/Users/bzerroug/.virtualenvs/project_/lib/python3.6/site-packages/numpy/core/fromnumeric.py:52: FutureWarning: reshape is deprecated and will raise in a subsequent release. Please use .values.reshape(...) instead\n",
      "  return getattr(obj, method)(*args, **kwds)\n"
     ]
    },
    {
     "data": {
      "image/png": "[encoded data removed]",
      "text/plain": [
       "<Figure size 640x480 with 1 Axes>"
      ]
     },
     "metadata": {},
     "output_type": "display_data"
    }
   ],
   "source": [
    "data_box_plot = [df[df['cheveux']==couleur]['salaire'] for couleur in df['cheveux'].unique()]\n",
    "\n",
    "plt.figure(num=None, figsize=(8, 6), dpi=80)\n",
    "plt.boxplot(data_box_plot,\n",
    "            vert=True,  \n",
    "            patch_artist=True,  \n",
    "            labels=list(df['cheveux'].unique()))  \n",
    "plt.title('salaire par couleur de cheveux box plot')\n",
    "plt.show()"
   ]
  },
  {
   "cell_type": "raw",
   "metadata": {},
   "source": [
    "Les moyennes et les écart-types des sous-échantillons sont relativement proches mais le graphe ne permet pas de conclure.\n",
    "Effectuons un test de la variance (ANOVA) pour comparer les moyennes des sous-échantillons. \n",
    "L’hypothèse nulle est que les moyennes des sous-échantillons sont égales."
   ]
  },
  {
   "cell_type": "code",
   "execution_count": 23,
   "metadata": {},
   "outputs": [
    {
     "data": {
      "text/plain": [
       "KruskalResult(statistic=132.56095770946072, pvalue=1.5175449017282804e-28)"
      ]
     },
     "execution_count": 23,
     "metadata": {},
     "output_type": "execute_result"
    }
   ],
   "source": [
    "stats.kruskal(data_box_plot[0], data_box_plot[1], data_box_plot[2], data_box_plot[3])"
   ]
  },
  {
   "cell_type": "raw",
   "metadata": {},
   "source": [
    "La p-valeur est inférieure à 1% donc on rejette l'hypothèse nulle selon laquelle les moyennes sont égales et on en déduit que au moins un échantillon est significativement différent des autres.\n",
    "Donc il y a dépendance entre les variables salaire et couleur de cheveux."
   ]
  },
  {
   "cell_type": "markdown",
   "metadata": {},
   "source": [
    "## Les distributions en âge des deux populations (femmes et hommes) sont-elles identiques ?"
   ]
  },
  {
   "cell_type": "code",
   "execution_count": 24,
   "metadata": {},
   "outputs": [
    {
     "name": "stderr",
     "output_type": "stream",
     "text": [
      "/Users/bzerroug/.virtualenvs/project_/lib/python3.6/site-packages/ipykernel_launcher.py:2: FutureWarning: using a dict on a Series for aggregation\n",
      "is deprecated and will be removed in a future version\n",
      "  \n"
     ]
    },
    {
     "data": {
      "text/html": [
       "<div>\n",
       "<style scoped>\n",
       "    .dataframe tbody tr th:only-of-type {\n",
       "        vertical-align: middle;\n",
       "    }\n",
       "\n",
       "    .dataframe tbody tr th {\n",
       "        vertical-align: top;\n",
       "    }\n",
       "\n",
       "    .dataframe thead th {\n",
       "        text-align: right;\n",
       "    }\n",
       "</style>\n",
       "<table border=\"1\" class=\"dataframe\">\n",
       "  <thead>\n",
       "    <tr style=\"text-align: right;\">\n",
       "      <th></th>\n",
       "      <th>count</th>\n",
       "      <th>mean</th>\n",
       "      <th>std</th>\n",
       "    </tr>\n",
       "    <tr>\n",
       "      <th>sexe</th>\n",
       "      <th></th>\n",
       "      <th></th>\n",
       "      <th></th>\n",
       "    </tr>\n",
       "  </thead>\n",
       "  <tbody>\n",
       "    <tr>\n",
       "      <th>F</th>\n",
       "      <td>6768</td>\n",
       "      <td>35.188771</td>\n",
       "      <td>9.309775</td>\n",
       "    </tr>\n",
       "    <tr>\n",
       "      <th>M</th>\n",
       "      <td>11080</td>\n",
       "      <td>35.169254</td>\n",
       "      <td>9.340229</td>\n",
       "    </tr>\n",
       "  </tbody>\n",
       "</table>\n",
       "</div>"
      ],
      "text/plain": [
       "      count       mean       std\n",
       "sexe                            \n",
       "F      6768  35.188771  9.309775\n",
       "M     11080  35.169254  9.340229"
      ]
     },
     "execution_count": 24,
     "metadata": {},
     "output_type": "execute_result"
    }
   ],
   "source": [
    "# On affiche le nombre, la moyenne et l'écart-type de l'âge en fonction du sexe\n",
    "df.groupby('sexe')['age'].agg({'count':'size', 'mean':'mean', 'std':np.std})"
   ]
  },
  {
   "cell_type": "code",
   "execution_count": 25,
   "metadata": {},
   "outputs": [
    {
     "data": {
      "text/plain": [
       "Text(0.5,1,'age distribution pour sexe = F')"
      ]
     },
     "execution_count": 25,
     "metadata": {},
     "output_type": "execute_result"
    },
    {
     "data": {
      "image/png": "[encoded data removed]",
      "text/plain": [
       "<Figure size 1000x800 with 2 Axes>"
      ]
     },
     "metadata": {},
     "output_type": "display_data"
    }
   ],
   "source": [
    "# On plot la distribution de l'âge en fonction du sexe\n",
    "\n",
    "plt.figure(num=None, figsize=(10, 8), dpi=100)\n",
    "\n",
    "plt.subplot(221)\n",
    "plt.hist(df[df['sexe']=='M']['age'])\n",
    "plt.title('age distribution pour sexe = M')\n",
    "\n",
    "\n",
    "plt.subplot(222)\n",
    "plt.hist(df[df['sexe']=='F']['age'])\n",
    "plt.title('age distribution pour sexe = F')"
   ]
  },
  {
   "cell_type": "raw",
   "metadata": {},
   "source": [
    "Les distributions de l’âge en fonction du sexe paraissent identiques graphiquement.\n",
    "Pour confirmer effectuons un test de Kolmogorov-Smirnov.\n",
    "\n",
    "Le test a pour Hypothèse nulle que les deux échantillons suivent la même loi statistique et donc ont la même distribution"
   ]
  },
  {
   "cell_type": "code",
   "execution_count": 26,
   "metadata": {},
   "outputs": [
    {
     "data": {
      "text/plain": [
       "Ks_2sampResult(statistic=0.008990812573076934, pvalue=0.8848884085333107)"
      ]
     },
     "execution_count": 26,
     "metadata": {},
     "output_type": "execute_result"
    }
   ],
   "source": [
    "stats.ks_2samp(df[df['sexe'] == 'M']['age'], df[df['sexe'] == 'F']['age'])"
   ]
  },
  {
   "cell_type": "raw",
   "metadata": {},
   "source": [
    "La p-valeur est de 88% donc on ne peut pas rejeter l'hypothèse selon laquelle les 2 distributions sont statistiquement identiques. On en déduit que les distributions sont statistiquement identiques."
   ]
  },
  {
   "cell_type": "markdown",
   "metadata": {},
   "source": [
    "# Partie II: Machine Leanring"
   ]
  },
  {
   "cell_type": "markdown",
   "metadata": {},
   "source": [
    "## Pre-processing"
   ]
  },
  {
   "cell_type": "code",
   "execution_count": 27,
   "metadata": {},
   "outputs": [],
   "source": [
    "# On ne prend en compte que l'année de candidature\n",
    "df['year_date'] = df['date'].apply(lambda x: x[:4])"
   ]
  },
  {
   "cell_type": "code",
   "execution_count": 28,
   "metadata": {},
   "outputs": [
    {
     "data": {
      "text/plain": [
       "<BarContainer object of 5 artists>"
      ]
     },
     "execution_count": 28,
     "metadata": {},
     "output_type": "execute_result"
    },
    {
     "data": {
      "image/png": "[encoded data removed]",
      "text/plain": [
       "<Figure size 432x288 with 1 Axes>"
      ]
     },
     "metadata": {},
     "output_type": "display_data"
    }
   ],
   "source": [
    "plt.bar(df['year_date'].value_counts().index, df['year_date'].value_counts())\n",
    "# On voit que la répartition des dates est plutôt uniforme dans l'échantillon"
   ]
  },
  {
   "cell_type": "code",
   "execution_count": 29,
   "metadata": {},
   "outputs": [],
   "source": [
    "del df['date']"
   ]
  },
  {
   "cell_type": "code",
   "execution_count": 30,
   "metadata": {},
   "outputs": [],
   "source": [
    "# On transforme les données qualitatives en dummies\n",
    "df_dummies = pd.get_dummies(df)"
   ]
  },
  {
   "cell_type": "code",
   "execution_count": 31,
   "metadata": {},
   "outputs": [
    {
     "data": {
      "text/html": [
       "<div>\n",
       "<style scoped>\n",
       "    .dataframe tbody tr th:only-of-type {\n",
       "        vertical-align: middle;\n",
       "    }\n",
       "\n",
       "    .dataframe tbody tr th {\n",
       "        vertical-align: top;\n",
       "    }\n",
       "\n",
       "    .dataframe thead th {\n",
       "        text-align: right;\n",
       "    }\n",
       "</style>\n",
       "<table border=\"1\" class=\"dataframe\">\n",
       "  <thead>\n",
       "    <tr style=\"text-align: right;\">\n",
       "      <th></th>\n",
       "      <th>age</th>\n",
       "      <th>exp</th>\n",
       "      <th>salaire</th>\n",
       "      <th>note</th>\n",
       "      <th>embauche</th>\n",
       "      <th>cheveux_blond</th>\n",
       "      <th>cheveux_brun</th>\n",
       "      <th>cheveux_chatain</th>\n",
       "      <th>cheveux_roux</th>\n",
       "      <th>sexe_F</th>\n",
       "      <th>...</th>\n",
       "      <th>specialite_detective</th>\n",
       "      <th>specialite_forage</th>\n",
       "      <th>specialite_geologie</th>\n",
       "      <th>dispo_non</th>\n",
       "      <th>dispo_oui</th>\n",
       "      <th>year_date_2010</th>\n",
       "      <th>year_date_2011</th>\n",
       "      <th>year_date_2012</th>\n",
       "      <th>year_date_2013</th>\n",
       "      <th>year_date_2014</th>\n",
       "    </tr>\n",
       "  </thead>\n",
       "  <tbody>\n",
       "    <tr>\n",
       "      <th>0</th>\n",
       "      <td>25.000000</td>\n",
       "      <td>9.0</td>\n",
       "      <td>26803.0</td>\n",
       "      <td>97.08</td>\n",
       "      <td>0</td>\n",
       "      <td>0</td>\n",
       "      <td>0</td>\n",
       "      <td>0</td>\n",
       "      <td>1</td>\n",
       "      <td>1</td>\n",
       "      <td>...</td>\n",
       "      <td>0</td>\n",
       "      <td>0</td>\n",
       "      <td>1</td>\n",
       "      <td>1</td>\n",
       "      <td>0</td>\n",
       "      <td>0</td>\n",
       "      <td>0</td>\n",
       "      <td>1</td>\n",
       "      <td>0</td>\n",
       "      <td>0</td>\n",
       "    </tr>\n",
       "    <tr>\n",
       "      <th>1</th>\n",
       "      <td>35.000000</td>\n",
       "      <td>13.0</td>\n",
       "      <td>38166.0</td>\n",
       "      <td>63.86</td>\n",
       "      <td>0</td>\n",
       "      <td>1</td>\n",
       "      <td>0</td>\n",
       "      <td>0</td>\n",
       "      <td>0</td>\n",
       "      <td>0</td>\n",
       "      <td>...</td>\n",
       "      <td>0</td>\n",
       "      <td>1</td>\n",
       "      <td>0</td>\n",
       "      <td>1</td>\n",
       "      <td>0</td>\n",
       "      <td>0</td>\n",
       "      <td>1</td>\n",
       "      <td>0</td>\n",
       "      <td>0</td>\n",
       "      <td>0</td>\n",
       "    </tr>\n",
       "    <tr>\n",
       "      <th>2</th>\n",
       "      <td>29.000000</td>\n",
       "      <td>13.0</td>\n",
       "      <td>35207.0</td>\n",
       "      <td>78.50</td>\n",
       "      <td>0</td>\n",
       "      <td>1</td>\n",
       "      <td>0</td>\n",
       "      <td>0</td>\n",
       "      <td>0</td>\n",
       "      <td>0</td>\n",
       "      <td>...</td>\n",
       "      <td>0</td>\n",
       "      <td>0</td>\n",
       "      <td>1</td>\n",
       "      <td>1</td>\n",
       "      <td>0</td>\n",
       "      <td>0</td>\n",
       "      <td>0</td>\n",
       "      <td>1</td>\n",
       "      <td>0</td>\n",
       "      <td>0</td>\n",
       "    </tr>\n",
       "    <tr>\n",
       "      <th>3</th>\n",
       "      <td>34.987162</td>\n",
       "      <td>12.0</td>\n",
       "      <td>32442.0</td>\n",
       "      <td>45.09</td>\n",
       "      <td>0</td>\n",
       "      <td>0</td>\n",
       "      <td>1</td>\n",
       "      <td>0</td>\n",
       "      <td>0</td>\n",
       "      <td>0</td>\n",
       "      <td>...</td>\n",
       "      <td>0</td>\n",
       "      <td>0</td>\n",
       "      <td>1</td>\n",
       "      <td>1</td>\n",
       "      <td>0</td>\n",
       "      <td>0</td>\n",
       "      <td>1</td>\n",
       "      <td>0</td>\n",
       "      <td>0</td>\n",
       "      <td>0</td>\n",
       "    </tr>\n",
       "    <tr>\n",
       "      <th>4</th>\n",
       "      <td>35.000000</td>\n",
       "      <td>6.0</td>\n",
       "      <td>28533.0</td>\n",
       "      <td>81.91</td>\n",
       "      <td>0</td>\n",
       "      <td>0</td>\n",
       "      <td>0</td>\n",
       "      <td>0</td>\n",
       "      <td>1</td>\n",
       "      <td>1</td>\n",
       "      <td>...</td>\n",
       "      <td>1</td>\n",
       "      <td>0</td>\n",
       "      <td>0</td>\n",
       "      <td>1</td>\n",
       "      <td>0</td>\n",
       "      <td>0</td>\n",
       "      <td>0</td>\n",
       "      <td>1</td>\n",
       "      <td>0</td>\n",
       "      <td>0</td>\n",
       "    </tr>\n",
       "  </tbody>\n",
       "</table>\n",
       "<p>5 rows × 26 columns</p>\n",
       "</div>"
      ],
      "text/plain": [
       "         age   exp  salaire   note  embauche  cheveux_blond  cheveux_brun  \\\n",
       "0  25.000000   9.0  26803.0  97.08         0              0             0   \n",
       "1  35.000000  13.0  38166.0  63.86         0              1             0   \n",
       "2  29.000000  13.0  35207.0  78.50         0              1             0   \n",
       "3  34.987162  12.0  32442.0  45.09         0              0             1   \n",
       "4  35.000000   6.0  28533.0  81.91         0              0             0   \n",
       "\n",
       "   cheveux_chatain  cheveux_roux  sexe_F       ...        \\\n",
       "0                0             1       1       ...         \n",
       "1                0             0       0       ...         \n",
       "2                0             0       0       ...         \n",
       "3                0             0       0       ...         \n",
       "4                0             1       1       ...         \n",
       "\n",
       "   specialite_detective  specialite_forage  specialite_geologie  dispo_non  \\\n",
       "0                     0                  0                    1          1   \n",
       "1                     0                  1                    0          1   \n",
       "2                     0                  0                    1          1   \n",
       "3                     0                  0                    1          1   \n",
       "4                     1                  0                    0          1   \n",
       "\n",
       "   dispo_oui  year_date_2010  year_date_2011  year_date_2012  year_date_2013  \\\n",
       "0          0               0               0               1               0   \n",
       "1          0               0               1               0               0   \n",
       "2          0               0               0               1               0   \n",
       "3          0               0               1               0               0   \n",
       "4          0               0               0               1               0   \n",
       "\n",
       "   year_date_2014  \n",
       "0               0  \n",
       "1               0  \n",
       "2               0  \n",
       "3               0  \n",
       "4               0  \n",
       "\n",
       "[5 rows x 26 columns]"
      ]
     },
     "execution_count": 31,
     "metadata": {},
     "output_type": "execute_result"
    }
   ],
   "source": [
    "df_dummies.head()"
   ]
  },
  {
   "cell_type": "code",
   "execution_count": 32,
   "metadata": {},
   "outputs": [],
   "source": [
    "# On normalise les données entre 0 et 1\n",
    "x = df_dummies.values \n",
    "min_max_scaler = preprocessing.MinMaxScaler()\n",
    "x_scaled = min_max_scaler.fit_transform(x)\n",
    "df_dummies_normalized = pd.DataFrame(x_scaled)\n",
    "df_dummies_normalized.columns = df_dummies.columns"
   ]
  },
  {
   "cell_type": "code",
   "execution_count": 33,
   "metadata": {},
   "outputs": [
    {
     "data": {
      "text/html": [
       "<div>\n",
       "<style scoped>\n",
       "    .dataframe tbody tr th:only-of-type {\n",
       "        vertical-align: middle;\n",
       "    }\n",
       "\n",
       "    .dataframe tbody tr th {\n",
       "        vertical-align: top;\n",
       "    }\n",
       "\n",
       "    .dataframe thead th {\n",
       "        text-align: right;\n",
       "    }\n",
       "</style>\n",
       "<table border=\"1\" class=\"dataframe\">\n",
       "  <thead>\n",
       "    <tr style=\"text-align: right;\">\n",
       "      <th></th>\n",
       "      <th>age</th>\n",
       "      <th>exp</th>\n",
       "      <th>salaire</th>\n",
       "      <th>note</th>\n",
       "      <th>embauche</th>\n",
       "      <th>cheveux_blond</th>\n",
       "      <th>cheveux_brun</th>\n",
       "      <th>cheveux_chatain</th>\n",
       "      <th>cheveux_roux</th>\n",
       "      <th>sexe_F</th>\n",
       "      <th>...</th>\n",
       "      <th>specialite_detective</th>\n",
       "      <th>specialite_forage</th>\n",
       "      <th>specialite_geologie</th>\n",
       "      <th>dispo_non</th>\n",
       "      <th>dispo_oui</th>\n",
       "      <th>year_date_2010</th>\n",
       "      <th>year_date_2011</th>\n",
       "      <th>year_date_2012</th>\n",
       "      <th>year_date_2013</th>\n",
       "      <th>year_date_2014</th>\n",
       "    </tr>\n",
       "  </thead>\n",
       "  <tbody>\n",
       "    <tr>\n",
       "      <th>0</th>\n",
       "      <td>0.229508</td>\n",
       "      <td>0.391304</td>\n",
       "      <td>0.318076</td>\n",
       "      <td>0.968025</td>\n",
       "      <td>0.0</td>\n",
       "      <td>0.0</td>\n",
       "      <td>0.0</td>\n",
       "      <td>0.0</td>\n",
       "      <td>1.0</td>\n",
       "      <td>1.0</td>\n",
       "      <td>...</td>\n",
       "      <td>0.0</td>\n",
       "      <td>0.0</td>\n",
       "      <td>1.0</td>\n",
       "      <td>1.0</td>\n",
       "      <td>0.0</td>\n",
       "      <td>0.0</td>\n",
       "      <td>0.0</td>\n",
       "      <td>1.0</td>\n",
       "      <td>0.0</td>\n",
       "      <td>0.0</td>\n",
       "    </tr>\n",
       "    <tr>\n",
       "      <th>1</th>\n",
       "      <td>0.393443</td>\n",
       "      <td>0.565217</td>\n",
       "      <td>0.603227</td>\n",
       "      <td>0.604249</td>\n",
       "      <td>0.0</td>\n",
       "      <td>1.0</td>\n",
       "      <td>0.0</td>\n",
       "      <td>0.0</td>\n",
       "      <td>0.0</td>\n",
       "      <td>0.0</td>\n",
       "      <td>...</td>\n",
       "      <td>0.0</td>\n",
       "      <td>1.0</td>\n",
       "      <td>0.0</td>\n",
       "      <td>1.0</td>\n",
       "      <td>0.0</td>\n",
       "      <td>0.0</td>\n",
       "      <td>1.0</td>\n",
       "      <td>0.0</td>\n",
       "      <td>0.0</td>\n",
       "      <td>0.0</td>\n",
       "    </tr>\n",
       "    <tr>\n",
       "      <th>2</th>\n",
       "      <td>0.295082</td>\n",
       "      <td>0.565217</td>\n",
       "      <td>0.528972</td>\n",
       "      <td>0.764564</td>\n",
       "      <td>0.0</td>\n",
       "      <td>1.0</td>\n",
       "      <td>0.0</td>\n",
       "      <td>0.0</td>\n",
       "      <td>0.0</td>\n",
       "      <td>0.0</td>\n",
       "      <td>...</td>\n",
       "      <td>0.0</td>\n",
       "      <td>0.0</td>\n",
       "      <td>1.0</td>\n",
       "      <td>1.0</td>\n",
       "      <td>0.0</td>\n",
       "      <td>0.0</td>\n",
       "      <td>0.0</td>\n",
       "      <td>1.0</td>\n",
       "      <td>0.0</td>\n",
       "      <td>0.0</td>\n",
       "    </tr>\n",
       "    <tr>\n",
       "      <th>3</th>\n",
       "      <td>0.393232</td>\n",
       "      <td>0.521739</td>\n",
       "      <td>0.459585</td>\n",
       "      <td>0.398708</td>\n",
       "      <td>0.0</td>\n",
       "      <td>0.0</td>\n",
       "      <td>1.0</td>\n",
       "      <td>0.0</td>\n",
       "      <td>0.0</td>\n",
       "      <td>0.0</td>\n",
       "      <td>...</td>\n",
       "      <td>0.0</td>\n",
       "      <td>0.0</td>\n",
       "      <td>1.0</td>\n",
       "      <td>1.0</td>\n",
       "      <td>0.0</td>\n",
       "      <td>0.0</td>\n",
       "      <td>1.0</td>\n",
       "      <td>0.0</td>\n",
       "      <td>0.0</td>\n",
       "      <td>0.0</td>\n",
       "    </tr>\n",
       "    <tr>\n",
       "      <th>4</th>\n",
       "      <td>0.393443</td>\n",
       "      <td>0.260870</td>\n",
       "      <td>0.361490</td>\n",
       "      <td>0.801905</td>\n",
       "      <td>0.0</td>\n",
       "      <td>0.0</td>\n",
       "      <td>0.0</td>\n",
       "      <td>0.0</td>\n",
       "      <td>1.0</td>\n",
       "      <td>1.0</td>\n",
       "      <td>...</td>\n",
       "      <td>1.0</td>\n",
       "      <td>0.0</td>\n",
       "      <td>0.0</td>\n",
       "      <td>1.0</td>\n",
       "      <td>0.0</td>\n",
       "      <td>0.0</td>\n",
       "      <td>0.0</td>\n",
       "      <td>1.0</td>\n",
       "      <td>0.0</td>\n",
       "      <td>0.0</td>\n",
       "    </tr>\n",
       "  </tbody>\n",
       "</table>\n",
       "<p>5 rows × 26 columns</p>\n",
       "</div>"
      ],
      "text/plain": [
       "        age       exp   salaire      note  embauche  cheveux_blond  \\\n",
       "0  0.229508  0.391304  0.318076  0.968025       0.0            0.0   \n",
       "1  0.393443  0.565217  0.603227  0.604249       0.0            1.0   \n",
       "2  0.295082  0.565217  0.528972  0.764564       0.0            1.0   \n",
       "3  0.393232  0.521739  0.459585  0.398708       0.0            0.0   \n",
       "4  0.393443  0.260870  0.361490  0.801905       0.0            0.0   \n",
       "\n",
       "   cheveux_brun  cheveux_chatain  cheveux_roux  sexe_F       ...        \\\n",
       "0           0.0              0.0           1.0     1.0       ...         \n",
       "1           0.0              0.0           0.0     0.0       ...         \n",
       "2           0.0              0.0           0.0     0.0       ...         \n",
       "3           1.0              0.0           0.0     0.0       ...         \n",
       "4           0.0              0.0           1.0     1.0       ...         \n",
       "\n",
       "   specialite_detective  specialite_forage  specialite_geologie  dispo_non  \\\n",
       "0                   0.0                0.0                  1.0        1.0   \n",
       "1                   0.0                1.0                  0.0        1.0   \n",
       "2                   0.0                0.0                  1.0        1.0   \n",
       "3                   0.0                0.0                  1.0        1.0   \n",
       "4                   1.0                0.0                  0.0        1.0   \n",
       "\n",
       "   dispo_oui  year_date_2010  year_date_2011  year_date_2012  year_date_2013  \\\n",
       "0        0.0             0.0             0.0             1.0             0.0   \n",
       "1        0.0             0.0             1.0             0.0             0.0   \n",
       "2        0.0             0.0             0.0             1.0             0.0   \n",
       "3        0.0             0.0             1.0             0.0             0.0   \n",
       "4        0.0             0.0             0.0             1.0             0.0   \n",
       "\n",
       "   year_date_2014  \n",
       "0             0.0  \n",
       "1             0.0  \n",
       "2             0.0  \n",
       "3             0.0  \n",
       "4             0.0  \n",
       "\n",
       "[5 rows x 26 columns]"
      ]
     },
     "execution_count": 33,
     "metadata": {},
     "output_type": "execute_result"
    }
   ],
   "source": [
    "df_dummies_normalized.head()"
   ]
  },
  {
   "cell_type": "markdown",
   "metadata": {},
   "source": [
    "## Modélisation"
   ]
  },
  {
   "cell_type": "raw",
   "metadata": {},
   "source": [
    "Les critères de performance utilisés:\n",
    "\n",
    "Comme il s’agit d’une classification, les critères de performances utilisés sont :\n",
    "1)\tLa matrice de confusion\n",
    "2)\tLa précision\n",
    "3)\tLe rappel \n",
    "\n",
    "La précision donne le pourcentage de classifications correctes (true positifs / (true positifs + true negatifs)) et mesure la capacité du modèle à refuser les solutions non-pertinentes.\n",
    "\n",
    "Le rappel donne le pourcentage des classifications correctes sur le nombre d’éléments de la classe. (true positifs / (true positifs + false negatifs)) et mesure la capacité du modèle à donner toutes les solutions pertinentes.\n",
    "La précision et le rappel pour notre modèle avec les paramètres optimisés et les données sur-échantillonnées nous donne 95% de précision et 95% de rappel.\n"
   ]
  },
  {
   "cell_type": "markdown",
   "metadata": {},
   "source": [
    "### Logistic regression"
   ]
  },
  {
   "cell_type": "code",
   "execution_count": 34,
   "metadata": {},
   "outputs": [],
   "source": [
    "# On split l'échantillon de départ en X et y puis en train et test\n",
    "X_df = df_dummies_normalized.drop(columns=['embauche'])\n",
    "y_df = df_dummies_normalized['embauche']\n",
    "\n",
    "X_train, X_test, y_train, y_test = train_test_split(X_df, y_df, test_size=0.33, random_state=42)"
   ]
  },
  {
   "cell_type": "code",
   "execution_count": 35,
   "metadata": {},
   "outputs": [],
   "source": [
    "lr = LogisticRegression(class_weight=\"balanced\")\n",
    "\n",
    "lr.fit(X_train, y_train)\n",
    "\n",
    "y_pred = lr.predict(X_test)"
   ]
  },
  {
   "cell_type": "code",
   "execution_count": 36,
   "metadata": {},
   "outputs": [
    {
     "name": "stdout",
     "output_type": "stream",
     "text": [
      "0.5503084040092521 0.44969159599074787 0.42592592592592593 0.5740740740740741\n",
      "[[2855 2333]\n",
      " [ 299  403]]\n"
     ]
    }
   ],
   "source": [
    "tn, fp, fn, tp = confusion_matrix(y_test, y_pred).ravel()\n",
    "print(tn/(len(y_test) - sum(y_test)), fp/(len(y_test) - sum(y_test)), fn/sum(y_test), tp/sum(y_test))\n",
    "print(confusion_matrix(y_test, y_pred))"
   ]
  },
  {
   "cell_type": "code",
   "execution_count": 37,
   "metadata": {},
   "outputs": [
    {
     "name": "stdout",
     "output_type": "stream",
     "text": [
      "0.1472953216374269 0.5740740740740741\n"
     ]
    }
   ],
   "source": [
    "precision = tp/(tp + fp)\n",
    "recall = tp/(tp + fn)\n",
    "print(precision, recall)"
   ]
  },
  {
   "cell_type": "raw",
   "metadata": {},
   "source": [
    "J'applique une régression logistique pour que ça serve de base-line pour les autres modèles développés plus bas.\n",
    "On voit que les performances peuvent être nettement améliorées (15% de précision et 57% de rappel)."
   ]
  },
  {
   "cell_type": "markdown",
   "metadata": {},
   "source": [
    "### Random Forest"
   ]
  },
  {
   "cell_type": "code",
   "execution_count": 38,
   "metadata": {},
   "outputs": [],
   "source": [
    "# On split l'échantillon de départ en X et y puis en train et test\n",
    "X_df = df_dummies_normalized.drop(columns=['embauche'])\n",
    "y_df = df_dummies_normalized['embauche']\n",
    "\n",
    "X_train, X_test, y_train, y_test = train_test_split(X_df, y_df, test_size=0.33, random_state=42)"
   ]
  },
  {
   "cell_type": "code",
   "execution_count": 39,
   "metadata": {},
   "outputs": [],
   "source": [
    "# On effectue un premier test de random forest en précisant bien le paramètre class_weight=\"balanced\"\n",
    "rf = RandomForestClassifier(class_weight=\"balanced\")\n",
    "\n",
    "rf.fit(X_train, y_train)\n",
    "\n",
    "y_pred = rf.predict(X_test)"
   ]
  },
  {
   "cell_type": "code",
   "execution_count": 40,
   "metadata": {},
   "outputs": [
    {
     "name": "stdout",
     "output_type": "stream",
     "text": [
      "0.9884348496530455 0.01156515034695451 0.688034188034188 0.31196581196581197\n",
      "5128 60 483 219\n",
      "[[5128   60]\n",
      " [ 483  219]]\n"
     ]
    }
   ],
   "source": [
    "tn, fp, fn, tp = confusion_matrix(y_test, y_pred).ravel()\n",
    "print(tn/(len(y_test) - sum(y_test)), fp/(len(y_test) - sum(y_test)), fn/sum(y_test), tp/sum(y_test))\n",
    "print(tn, fp, fn, tp)\n",
    "print(confusion_matrix(y_test, y_pred))"
   ]
  },
  {
   "cell_type": "code",
   "execution_count": 41,
   "metadata": {},
   "outputs": [
    {
     "name": "stdout",
     "output_type": "stream",
     "text": [
      "0.7849462365591398 0.31196581196581197\n"
     ]
    }
   ],
   "source": [
    "precision = tp/(tp + fp)\n",
    "recall = tp/(tp + fn)\n",
    "print(precision, recall)"
   ]
  },
  {
   "cell_type": "raw",
   "metadata": {},
   "source": [
    "On voit que le Random Forest semble plus adapté à ce problème. Voyons comment peut-on améliorer les performances du modèle."
   ]
  },
  {
   "cell_type": "markdown",
   "metadata": {},
   "source": [
    "### Optimisation des paramètres"
   ]
  },
  {
   "cell_type": "raw",
   "metadata": {},
   "source": [
    "Les paramètres du Random Forest sont les suivants :\n",
    "-\tNombre d’arbres\n",
    "-\tNombre de features pour considérer chaque split\n",
    "-\tNombre maximum de niveaux dans chaque arbre\n",
    "-\tNombre minimum d’éléments pour spliter un node et une feuille\n",
    "-\tBootstrap : méthode de sélection de donnée pour le train de chaque arbre\n",
    "\n",
    "J’optimise les paramètres en utilisant un Grid Search sur un panel de valeurs possibles."
   ]
  },
  {
   "cell_type": "code",
   "execution_count": 42,
   "metadata": {},
   "outputs": [],
   "source": [
    "# nombre d'arbres random forest\n",
    "n_estimators = [int(x) for x in np.linspace(start = 200, stop = 2000, num = 10)]\n",
    "# nombre de features pour considérer chaque split\n",
    "max_features = ['auto', 'sqrt']\n",
    "# Nombre maximum de niveau dans chaque arbre\n",
    "max_depth = [int(x) for x in np.linspace(10, 110, num = 11)]\n",
    "max_depth.append(None)\n",
    "# Nombre minimum d'éléments pour spliter un node\n",
    "min_samples_split = [2, 5, 10]\n",
    "# Nombre minimum d'éléments pour spliter une feuille\n",
    "min_samples_leaf = [1, 2, 4]\n",
    "# Methode de sélection de donnée pour le train de chaque arbre\n",
    "bootstrap = [True, False]\n",
    "\n",
    "# Créer le random grid\n",
    "random_grid = {'n_estimators': n_estimators,\n",
    "               'max_features': max_features,\n",
    "               'max_depth': max_depth,\n",
    "               'min_samples_split': min_samples_split,\n",
    "               'min_samples_leaf': min_samples_leaf,\n",
    "               'bootstrap': bootstrap,\n",
    "               'class_weight': ['balanced'],}"
   ]
  },
  {
   "cell_type": "code",
   "execution_count": 43,
   "metadata": {},
   "outputs": [],
   "source": [
    "## Random search des paramètres, utilisant 3 fold de cross validation, \n",
    "## recherche à travers 100 differentes combinaisons en utilisant tous les cores disponibles\n",
    "#rf_random = RandomizedSearchCV(estimator = clf, param_distributions = random_grid, n_iter = 100, cv = 3, verbose=2, random_state=42, n_jobs = -1)\n",
    "## Fit du modèle\n",
    "#rf_random.fit(X_train, y_train)"
   ]
  },
  {
   "cell_type": "code",
   "execution_count": 44,
   "metadata": {},
   "outputs": [],
   "source": [
    "## Les meilleurs paramètres selon le random search\n",
    "#best_params = rf_random.best_params_"
   ]
  },
  {
   "cell_type": "code",
   "execution_count": 45,
   "metadata": {},
   "outputs": [],
   "source": [
    "best_params = {'bootstrap': True,\n",
    " 'class_weight': 'balanced',\n",
    " 'max_depth': 80,\n",
    " 'max_features': 'auto',\n",
    " 'min_samples_leaf': 1,\n",
    " 'min_samples_split': 5,\n",
    " 'n_estimators': 600}"
   ]
  },
  {
   "cell_type": "code",
   "execution_count": 46,
   "metadata": {},
   "outputs": [],
   "source": [
    "# Fit avec les meilleurs paramètres et prédiction\n",
    "rf_gs = RandomForestClassifier(**best_params)\n",
    "rf_gs.fit(X_train, y_train)\n",
    "\n",
    "y_pred = rf_gs.predict(X_test)"
   ]
  },
  {
   "cell_type": "code",
   "execution_count": 47,
   "metadata": {},
   "outputs": [
    {
     "name": "stdout",
     "output_type": "stream",
     "text": [
      "0.980917501927525 0.019082498072474943 0.5441595441595442 0.45584045584045585\n",
      "[[5089   99]\n",
      " [ 382  320]]\n"
     ]
    }
   ],
   "source": [
    "# Matrice de confusion\n",
    "tn, fp, fn, tp = confusion_matrix(y_test, y_pred).ravel()\n",
    "print(tn/(len(y_test) - sum(y_test)), fp/(len(y_test) - sum(y_test)), fn/sum(y_test), tp/sum(y_test))\n",
    "print(confusion_matrix(y_test, y_pred))"
   ]
  },
  {
   "cell_type": "code",
   "execution_count": 48,
   "metadata": {},
   "outputs": [
    {
     "name": "stdout",
     "output_type": "stream",
     "text": [
      "0.7637231503579952 0.45584045584045585\n"
     ]
    }
   ],
   "source": [
    "precision = tp/(tp + fp)\n",
    "recall = tp/(tp + fn)\n",
    "print(precision, recall)"
   ]
  },
  {
   "cell_type": "raw",
   "metadata": {},
   "source": [
    "On voit qu'en optimisant les paramètres du modèle, on gagne 12 points de rappel."
   ]
  },
  {
   "cell_type": "markdown",
   "metadata": {},
   "source": [
    "### Upsampling"
   ]
  },
  {
   "cell_type": "raw",
   "metadata": {},
   "source": [
    "pour améliorer mon modèle, j’effectue un ré-échantillonnage pour équilibrer les classes. Même si le Random Forest peut gérer ça algorithmiquement, il reste une marge d’amélioration.\n",
    "\n",
    "Pour le ré-échantillonnage, j’opte pour le sur-échantillonnage de la plus petite classe. Cette technique peut entraîner des problèmes d’overfitting donc j’utilise la méthode SMOTE (Synthetic Minority Oversampling technic) pour les éviter."
   ]
  },
  {
   "cell_type": "code",
   "execution_count": 49,
   "metadata": {},
   "outputs": [],
   "source": [
    "sm = SMOTE(random_state=42)\n",
    "X_res, y_res = sm.fit_sample(X_df, y_df)"
   ]
  },
  {
   "cell_type": "code",
   "execution_count": 50,
   "metadata": {},
   "outputs": [],
   "source": [
    "X_train, X_test, y_train, y_test = train_test_split(X_res, y_res, test_size=0.33, random_state=42)"
   ]
  },
  {
   "cell_type": "code",
   "execution_count": 51,
   "metadata": {},
   "outputs": [],
   "source": [
    "rf_up = RandomForestClassifier(**best_params)\n",
    "\n",
    "rf_up.fit(X_train, y_train)\n",
    "\n",
    "y_pred = rf_up.predict(X_test)"
   ]
  },
  {
   "cell_type": "code",
   "execution_count": 52,
   "metadata": {},
   "outputs": [
    {
     "name": "stdout",
     "output_type": "stream",
     "text": [
      "0.9472678639663737 0.05273213603362629 0.06546929316338354 0.9345307068366164\n",
      "[[4958  276]\n",
      " [ 339 4839]]\n"
     ]
    }
   ],
   "source": [
    "tn, fp, fn, tp = confusion_matrix(y_test, y_pred).ravel()\n",
    "print(tn/(len(y_test) - sum(y_test)), fp/(len(y_test) - sum(y_test)), fn/sum(y_test), tp/sum(y_test))\n",
    "print(confusion_matrix(y_test, y_pred))"
   ]
  },
  {
   "cell_type": "code",
   "execution_count": 53,
   "metadata": {},
   "outputs": [
    {
     "name": "stdout",
     "output_type": "stream",
     "text": [
      "0.9460410557184751 0.9345307068366164\n"
     ]
    }
   ],
   "source": [
    "precision = tp/(tp + fp)\n",
    "recall = tp/(tp + fn)\n",
    "print(precision, recall)"
   ]
  },
  {
   "cell_type": "raw",
   "metadata": {},
   "source": [
    "Sur-échantilloner les données permet une nette amélioration par rapport au modèle plus haut. \n",
    "On gagne près de 50 points de rappels et près de 20 points de précision."
   ]
  },
  {
   "cell_type": "markdown",
   "metadata": {},
   "source": [
    "### Optimisation des paramètres sur les données upsamplées"
   ]
  },
  {
   "cell_type": "code",
   "execution_count": 54,
   "metadata": {},
   "outputs": [],
   "source": [
    "## Random search of parameters, using 3 fold cross validation, \n",
    "## search across 100 different combinations, and use all available cores\n",
    "#rf_random = RandomizedSearchCV(estimator = clf, param_distributions = random_grid, n_iter = 100, cv = 3, verbose=2, random_state=42, n_jobs = -1)\n",
    "## Fit the random search model\n",
    "#rf_random.fit(X_train, y_train)"
   ]
  },
  {
   "cell_type": "code",
   "execution_count": 55,
   "metadata": {},
   "outputs": [],
   "source": [
    "#best_params_up = rf_random.best_params_ "
   ]
  },
  {
   "cell_type": "code",
   "execution_count": 56,
   "metadata": {},
   "outputs": [],
   "source": [
    "best_params_up = {'bootstrap': False,\n",
    " 'class_weight': 'balanced',\n",
    " 'max_depth': 40,\n",
    " 'max_features': 'auto',\n",
    " 'min_samples_leaf': 1,\n",
    " 'min_samples_split': 2,\n",
    " 'n_estimators': 1400}"
   ]
  },
  {
   "cell_type": "code",
   "execution_count": 57,
   "metadata": {},
   "outputs": [],
   "source": [
    "rf_up_gs = RandomForestClassifier(**best_params_up)\n",
    "\n",
    "rf_up_gs.fit(X_train, y_train)\n",
    "\n",
    "y_pred = rf_up_gs.predict(X_test)"
   ]
  },
  {
   "cell_type": "code",
   "execution_count": 58,
   "metadata": {},
   "outputs": [
    {
     "name": "stdout",
     "output_type": "stream",
     "text": [
      "0.9533817348108521 0.04661826518914788 0.05117806102742371 0.9488219389725763\n",
      "[[4990  244]\n",
      " [ 265 4913]]\n"
     ]
    }
   ],
   "source": [
    "tn, fp, fn, tp = confusion_matrix(y_test, y_pred).ravel()\n",
    "print(tn/(len(y_test) - sum(y_test)), fp/(len(y_test) - sum(y_test)), fn/sum(y_test), tp/sum(y_test))\n",
    "print(confusion_matrix(y_test, y_pred))"
   ]
  },
  {
   "cell_type": "code",
   "execution_count": 59,
   "metadata": {},
   "outputs": [
    {
     "name": "stdout",
     "output_type": "stream",
     "text": [
      "0.9526856699631568 0.9488219389725763\n"
     ]
    }
   ],
   "source": [
    "precision = tp/(tp + fp)\n",
    "recall = tp/(tp + fn)\n",
    "print(precision, recall)"
   ]
  },
  {
   "cell_type": "raw",
   "metadata": {},
   "source": [
    "En optimisant les paramètres sur les nouvelles données upsamplées, on gagne 1% de précision et 1% de rappel (je trouve cela important car les derniers pourcentages sont plus difficile à gagner)."
   ]
  },
  {
   "cell_type": "markdown",
   "metadata": {},
   "source": [
    "### Importance des variables"
   ]
  },
  {
   "cell_type": "raw",
   "metadata": {},
   "source": [
    "Maintenant que nous avons un modèle avec un une certaine performance, il est intéressant de voir quelles variables sont les plus importantes pour le modèle."
   ]
  },
  {
   "cell_type": "code",
   "execution_count": 60,
   "metadata": {},
   "outputs": [],
   "source": [
    "importances = rf_up_gs.feature_importances_"
   ]
  },
  {
   "cell_type": "code",
   "execution_count": 61,
   "metadata": {},
   "outputs": [
    {
     "data": {
      "text/plain": [
       "<matplotlib.axes._subplots.AxesSubplot at 0x10b1afa90>"
      ]
     },
     "execution_count": 61,
     "metadata": {},
     "output_type": "execute_result"
    },
    {
     "data": {
      "text/plain": [
       "<Figure size 432x288 with 0 Axes>"
      ]
     },
     "metadata": {},
     "output_type": "display_data"
    },
    {
     "data": {
      "image/png": "[encoded data removed]",
      "text/plain": [
       "<Figure size 432x288 with 1 Axes>"
      ]
     },
     "metadata": {},
     "output_type": "display_data"
    }
   ],
   "source": [
    "df_importance = pd.DataFrame(importances, index=X_df.columns, columns=['importance']).sort_values(by='importance', ascending=False)\n",
    "\n",
    "plt.figure()\n",
    "df_importance.plot.bar()"
   ]
  },
  {
   "cell_type": "raw",
   "metadata": {},
   "source": [
    "Les données de note, salaire, expérience et âge sont les features qui ont le plus d'importance dans notre modèle."
   ]
  },
  {
   "cell_type": "code",
   "execution_count": null,
   "metadata": {},
   "outputs": [],
   "source": []
  }
 ],
 "metadata": {
  "kernelspec": {
   "display_name": "Python 3",
   "language": "python",
   "name": "python3"
  },
  "language_info": {
   "codemirror_mode": {
    "name": "ipython",
    "version": 3
   },
   "file_extension": ".py",
   "mimetype": "text/x-python",
   "name": "python",
   "nbconvert_exporter": "python",
   "pygments_lexer": "ipython3",
   "version": "3.6.4"
  }
 },
 "nbformat": 4,
 "nbformat_minor": 2
}
